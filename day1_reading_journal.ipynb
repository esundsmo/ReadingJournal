{
 "cells": [
  {
   "cell_type": "markdown",
   "metadata": {},
   "source": [
    "# Day 1 Reading Journal\n",
    "\n",
    "Hi everyone.  These are the exercises for the first set of readings from ThinkPython.  While this journal consists of several required exercises, it is meant to encourage active reading more generally.  You should use this journal to take detailed notes, catalog questions, and explore the content from ThinkPython deeply.\n",
    "\n",
    "For more information on using the Jupyter notebook, check out the documentation [here](http://nbviewer.jupyter.org/github/jupyter/notebook/blob/master/docs/source/examples/Notebook/Examples%20and%20Tutorials%20Index.ipynb).  Additionally, in order to write text in this document, you will be making use of markdown cells. A handy cheatsheet for markdown is available [here](https://github.com/adam-p/markdown-here/wiki/Markdown-Cheatsheet)."
   ]
  },
  {
   "cell_type": "markdown",
   "metadata": {},
   "source": [
    "## Chapter 1\n",
    "\n",
    "Note: the exercise numbers below match up with the reading for ease of cross referencing."
   ]
  },
  {
   "cell_type": "markdown",
   "metadata": {},
   "source": [
    "High level language: portable, easier and faster to write and read, requires time to be processed into lower level for computer\n",
    "\n",
    "Low level language: specialized applications, not portable\n",
    "\n",
    "Interpreter: processes a few lines of a program at a time; alternates between reading and performing computations (High to low level translation)\n",
    "    Interactive mode: given prompt >>>  *good for testing small code pieces\n",
    "    Script mode: stored file, executed by giving interpreter file name\n",
    "\n",
    "Compiler: translates source code into oject code (High to low level translation)\n",
    "\n",
    "Program: instruction sequence for performing computations. \n",
    "    Common basic instructions: input, output, math, conditional execution, repetition\n",
    "\n",
    "Debugging error types: syntax, runtime, semantic\n",
    "    Syntax: program structure and rules\n",
    "    Runtime: error does not appear until after program starts running, Rare, bad\n",
    "    Semantic: Program runs, no errors, but won't do 'right thing'. Incorrect user logic.\n",
    "    \n",
    "Natureal languages: speakable. Ambiguous, repetetive and non literal\n",
    "Formal languages: designed for specific applications. Unambigouous, concise, literal\n",
    "    Programming languages are FL designed to express computations\n",
    "    \n",
    "Syntax rule 'flavors'\n",
    "    Tokens: basic elements of language (words, numbers, chemical elements)\n",
    "    Parsing: figuring out structure to find meaning"
   ]
  },
  {
   "cell_type": "markdown",
   "metadata": {},
   "source": [
    "### Exercise 3\n",
    "\n",
    "Type `help()` to start the online help utility. Or you can type help('print') to get information about the print statement.  You should type `q` and then hit `enter` in the text box to exit the help utility. \n",
    "\n",
    "Note: this exercise is pretty simple (and there's not much to put in the box)!  We just want to make sure that you have tried out this super-handy feature of Python!"
   ]
  },
  {
   "cell_type": "code",
   "execution_count": 6,
   "metadata": {
    "collapsed": false
   },
   "outputs": [
    {
     "name": "stdout",
     "output_type": "stream",
     "text": [
      "The \"print\" statement\n",
      "*********************\n",
      "\n",
      "   print_stmt ::= \"print\" ([expression (\",\" expression)* [\",\"]]\n",
      "                  | \">>\" expression [(\",\" expression)+ [\",\"]])\n",
      "\n",
      "\"print\" evaluates each expression in turn and writes the resulting\n",
      "object to standard output (see below).  If an object is not a string,\n",
      "it is first converted to a string using the rules for string\n",
      "conversions.  The (resulting or original) string is then written.  A\n",
      "space is written before each object is (converted and) written, unless\n",
      "the output system believes it is positioned at the beginning of a\n",
      "line.  This is the case (1) when no characters have yet been written\n",
      "to standard output, (2) when the last character written to standard\n",
      "output is a whitespace character except \"' '\", or (3) when the last\n",
      "write operation on standard output was not a \"print\" statement. (In\n",
      "some cases it may be functional to write an empty string to standard\n",
      "output for this reason.)\n",
      "\n",
      "Note: Objects which act like file objects but which are not the\n",
      "  built-in file objects often do not properly emulate this aspect of\n",
      "  the file object's behavior, so it is best not to rely on this.\n",
      "\n",
      "A \"'\\n'\" character is written at the end, unless the \"print\" statement\n",
      "ends with a comma.  This is the only action if the statement contains\n",
      "just the keyword \"print\".\n",
      "\n",
      "Standard output is defined as the file object named \"stdout\" in the\n",
      "built-in module \"sys\".  If no such object exists, or if it does not\n",
      "have a \"write()\" method, a \"RuntimeError\" exception is raised.\n",
      "\n",
      "\"print\" also has an extended form, defined by the second portion of\n",
      "the syntax described above. This form is sometimes referred to as\n",
      "\"\"print\" chevron.\" In this form, the first expression after the \">>\"\n",
      "must evaluate to a \"file-like\" object, specifically an object that has\n",
      "a \"write()\" method as described above.  With this extended form, the\n",
      "subsequent expressions are printed to this file object.  If the first\n",
      "expression evaluates to \"None\", then \"sys.stdout\" is used as the file\n",
      "for output.\n",
      "\n"
     ]
    },
    {
     "ename": "NameError",
     "evalue": "name 'q' is not defined",
     "output_type": "error",
     "traceback": [
      "\u001b[1;31m---------------------------------------------------------------------------\u001b[0m",
      "\u001b[1;31mNameError\u001b[0m                                 Traceback (most recent call last)",
      "\u001b[1;32m<ipython-input-6-e42ceecdde8d>\u001b[0m in \u001b[0;36m<module>\u001b[1;34m()\u001b[0m\n\u001b[0;32m      1\u001b[0m \u001b[0mhelp\u001b[0m\u001b[1;33m(\u001b[0m\u001b[1;34m'print'\u001b[0m\u001b[1;33m)\u001b[0m\u001b[1;33m\u001b[0m\u001b[0m\n\u001b[1;32m----> 2\u001b[1;33m \u001b[0mq\u001b[0m\u001b[1;33m\u001b[0m\u001b[0m\n\u001b[0m",
      "\u001b[1;31mNameError\u001b[0m: name 'q' is not defined"
     ]
    }
   ],
   "source": [
    "help('print')\n",
    "q\n"
   ]
  },
  {
   "cell_type": "markdown",
   "metadata": {},
   "source": [
    "### Exercise 4  \n",
    "\n",
    "Start the Python interpreter and use it as a calculator. Python’s syntax for math operations is almost the same as standard mathematical notation. For example, the symbols +, - and / denote addition, subtraction and division, as you would expect. The symbol for multiplication is *.\n",
    "\n",
    "If you run a 10 kilometer race in 43 minutes 30 seconds, what is your average time per mile? What is your average speed in miles per hour? (Hint: there are 1.61 kilometers in a mile). "
   ]
  },
  {
   "cell_type": "code",
   "execution_count": 3,
   "metadata": {
    "collapsed": false
   },
   "outputs": [
    {
     "name": "stdout",
     "output_type": "stream",
     "text": [
      "Average time per mile: 7.0035\n",
      "Average speed in mph: 8.56714499893\n"
     ]
    }
   ],
   "source": [
    "ans1 = (43.5)/(10/1.61)\n",
    "ans2 = (10/1.61)/(43.5/60)\n",
    "\n",
    "print 'Average time per mile: ' + str(ans1)\n",
    "print 'Average speed in mph: ' + str(ans2)"
   ]
  },
  {
   "cell_type": "markdown",
   "metadata": {},
   "source": [
    "## Chapter 2"
   ]
  },
  {
   "cell_type": "markdown",
   "metadata": {},
   "source": [
    "### Exercise 2  \n",
    "\n",
    "Assume that we execute the following assignment statements:\n",
    "\n",
    "width = 17\n",
    "height = 12.0\n",
    "delimiter = '.'\n",
    "\n",
    "For each of the following expressions, write the value of the expression and the type (of the value of the expression).\n",
    "\n",
    "1. `width/2`\n",
    "2. `width/2.0`\n",
    "3. `height/3`\n",
    "4. `1 + 2 * 5`\n",
    "5. `delimiter * 5`\n",
    "\n",
    "Please use the following markdown cell to provide your answer."
   ]
  },
  {
   "cell_type": "markdown",
   "metadata": {},
   "source": [
    "Value: basic thing programs use ie 1,2, 'Hi'\n",
    "Types: integer (int, float if decimal pt), string (str)\n",
    "    command: type()\n",
    "    \n",
    "Variable: user given name that refers to a value. \n",
    "    Created in an assignment statement    \n",
    "\n",
    "Keywords: used by interpreter for structure recognition\n",
    "    Cannot be used as variable names\n",
    "    Python 2 has 31 keywords\n",
    "    \n",
    "\n",
    "Operators: symbols representing computations\n",
    "Operands: values operators are applied to\n",
    "   NOTE: * * is power operator, ^ is bitwise operator XOR\n",
    "           /  in P2 does floor division (int/float input, int/float output)\n",
    "           /  in P3 does float division. use // for floor division\n",
    "              \n",
    "Expression: combination of values, variables, operators, or any by themselves\n",
    "Statement: unit of code that the interpreter can exectute\n",
    "    ex. print and assignment statements\n",
    "    \n",
    "\n",
    "NOTE: An interpreter will give an output statement outomatically, but a script will not display an output unless you tell it to.\n",
    "\n",
    "\n",
    "Order of Operations/ Rules of Prececdence: Python follows PEMDAS\n",
    "    Parenthesis > Exponents > Multiplication & Division > Addition & Subtraction\n",
    "\n",
    "Concatenation: joins strings together end-to-end\n",
    "    NOTE: math operators mix with strings strangely. + will combine the string patterns, and *# will combine the pattern contained in the string # times\n",
    "    \n",
    "Comments: notes in programs for use clarity, in python started with # symbol"
   ]
  },
  {
   "cell_type": "markdown",
   "metadata": {},
   "source": [
    "1. 8     int\n",
    "2. 8.5   float\n",
    "3. 4     float\n",
    "4. 11    int\n",
    "5. ..... string"
   ]
  },
  {
   "cell_type": "markdown",
   "metadata": {},
   "source": [
    "### Exercise 3  \n",
    "\n",
    "Practice using the Python interpreter as a calculator.  For each of these provide Python code that computes each answer.\n",
    "\n",
    "    \n"
   ]
  },
  {
   "cell_type": "markdown",
   "metadata": {},
   "source": [
    "The volume of a sphere with radius r is 4/3 $\\pi r^3$. What is the volume of a sphere with radius 5? Hint: 392.7 is wrong!"
   ]
  },
  {
   "cell_type": "code",
   "execution_count": 5,
   "metadata": {
    "collapsed": false
   },
   "outputs": [
    {
     "data": {
      "text/plain": [
       "523.5987666666666"
      ]
     },
     "execution_count": 5,
     "metadata": {},
     "output_type": "execute_result"
    }
   ],
   "source": [
    "pi = 3.1415926\n",
    "(4*pi*(5**3))/3"
   ]
  },
  {
   "cell_type": "markdown",
   "metadata": {},
   "source": [
    "Suppose the cover price of a book is \\$24.95, but bookstores get a 40% discount. Shipping costs \\$3 for the first copy and 75 cents for each additional copy. What is the total wholesale cost for 60 copies?"
   ]
  },
  {
   "cell_type": "code",
   "execution_count": 2,
   "metadata": {
    "collapsed": false
   },
   "outputs": [
    {
     "data": {
      "text/plain": [
       "62.22"
      ]
     },
     "execution_count": 2,
     "metadata": {},
     "output_type": "execute_result"
    }
   ],
   "source": [
    "(24.95*.6) + 3 + (0.75 *59)"
   ]
  },
  {
   "cell_type": "markdown",
   "metadata": {},
   "source": [
    "If I leave my house at 6:52 am and run 1 mile at an easy pace (8:15 per mile), then 3 miles at tempo (7:12 per mile) and 1 mile at easy pace again, what time do I get home for breakfast? "
   ]
  },
  {
   "cell_type": "code",
   "execution_count": 44,
   "metadata": {
    "collapsed": false
   },
   "outputs": [
    {
     "name": "stdout",
     "output_type": "stream",
     "text": [
      "You return at 6:29\n"
     ]
    }
   ],
   "source": [
    "sec_running = 15*2\n",
    "min_running = 8*2 + 7*3 + sec_running/60\n",
    "\n",
    "min_left = 52\n",
    "hour_left = 6\n",
    "\n",
    "min_total = min_left + min_running - 60\n",
    "int_min2hrs = int(min_total/60)\n",
    "min_return = min_total - 60*int_min2hrs\n",
    "hour_return = hour_left + int_min2hrs\n",
    "\n",
    "print'You return at ' + str(hour_return) + ':'+ str(min_return)\n"
   ]
  },
  {
   "cell_type": "markdown",
   "metadata": {},
   "source": [
    "## Chapter 3"
   ]
  },
  {
   "cell_type": "markdown",
   "metadata": {},
   "source": [
    "Function: named sequence of statements that performs computations\n",
    "\n",
    "   Function call: ex) type(32) >>>int   ex) int('32') >>>32\n",
    "   Argument: parenthesis contents of function\n",
    "    \n",
    "Module: file that contains a collection of functions\n",
    "\n",
    "   Type conversion function: int(), float(), str()\n",
    "   \n",
    "   Math function: sin() cos() tan() pi log() log10() sqrt()\n",
    "   \n",
    "   ex)   >>>import math\n",
    "           math.sin(.7)\n",
    "           \n",
    "   NOTE: Dot notation: (name of module).(name of function) to use function\n",
    "\n",
    "Function definition: specifies the name of a new function and the sequence of statements that execute when it's called. The first line is a header and the rest is the body.\n",
    "\n",
    "   ex) def new_function():   #header must end with colon!\n",
    "           # body goes here, traditional 4 space indentation!\n",
    "           \n",
    "   NOTE: empty parenthesis means no arguments taken\n",
    "   \n",
    "   NOTE: if interactive mode interpreter prints (...), definition not complete\n",
    " \n",
    "Function object: output of a function\n",
    "\n",
    "Flow of execution\n",
    "\n",
    "Parameters: arguments assigned to variables\n",
    "\n",
    "Stack diagrams: uses frames to keep track of variables and parameters in modules and functions\n",
    "\n",
    "Fruitful functions: output a 'result' that can be used later\n",
    "\n",
    "Void functions: perform an action but don't return a value\n",
    "\n",
    "Importing: two ways-- 'import' and 'from'\n",
    "\n",
    "   Import: creates a module object 'math' that contains functions & objects\n",
    "   \n",
    "   From: enables direct access to module contents (no dot notation)\n",
    "   \n",
    "   ex) >>> from math import pi #imports the object pi\n",
    "   ex) >>> from math import *  #imports all things in math\n",
    "       >>> cos(pi)\n",
    "       -1.0\n",
    "                \n",
    "Ddebugging: \n",
    "   -if using a text editor use spaces to indent (no tabs!)\n",
    "   -save programs before running \n",
    "   (perhaps input a new print statement at the top to make sure its correct V)\n"
   ]
  },
  {
   "cell_type": "markdown",
   "metadata": {},
   "source": [
    "### Exercise 3\n",
    "\n",
    "Python provides a built-in function called len that returns the length of a string, so the value of len('allen') is 5.\n",
    "Write a function named right_justify that takes a string named s as a parameter and prints the string with enough leading spaces so that the last letter of the string is in column 70 of the display.\n",
    "\n",
    "```\n",
    ">>> right_justify('allen')\n",
    "                                                                 allen```"
   ]
  },
  {
   "cell_type": "code",
   "execution_count": 46,
   "metadata": {
    "collapsed": false
   },
   "outputs": [
    {
     "name": "stdout",
     "output_type": "stream",
     "text": [
      "                                                                Plants\n"
     ]
    }
   ],
   "source": [
    "def right_justify(s):\n",
    "    justified = ' '*(70-len(s)) + s\n",
    "    print justified\n",
    "\n",
    "right_justify('Plants')"
   ]
  },
  {
   "cell_type": "markdown",
   "metadata": {},
   "source": [
    "### Exercise 5\n",
    "\n",
    "This exercise can be done using only the statements and other features we have learned so far.\n",
    "\n",
    "(a) Write a function that draws a grid like the following:\n",
    "```\n",
    "+ - - - - + - - - - +\n",
    "|         |         |\n",
    "|         |         |\n",
    "|         |         |\n",
    "|         |         |\n",
    "+ - - - - + - - - - +\n",
    "|         |         |\n",
    "|         |         |\n",
    "|         |         |\n",
    "|         |         |\n",
    "+ - - - - + - - - - +\n",
    "```\n",
    "**Hint:** to print more than one value on a line, you can print a comma-separated sequence:\n",
    "print '+', '-'\n",
    "If the sequence ends with a comma, Python leaves the line unfinished, so the value printed next appears on the same line.\n",
    "print '+', \n",
    "print '-'\n",
    "The output of these statements is '+ -'.\n",
    "A print statement all by itself ends the current line and goes to the next line."
   ]
  },
  {
   "cell_type": "code",
   "execution_count": 49,
   "metadata": {
    "collapsed": false
   },
   "outputs": [
    {
     "name": "stdout",
     "output_type": "stream",
     "text": [
      "+ - - - - + - - - - + \n",
      "|         |         | \n",
      "|         |         | \n",
      "|         |         | \n",
      "|         |         | \n",
      "+ - - - - + - - - - + \n",
      "|         |         | \n",
      "|         |         | \n",
      "|         |         | \n",
      "|         |         | \n",
      "+ - - - - + - - - - + \n",
      "\n"
     ]
    }
   ],
   "source": [
    "h = 4  # (horizonal dashes\n",
    "v = 4  #  vertical dashes\n",
    "m = 2  #  rows of boxes\n",
    "n = 2  #  columns of boxes)\n",
    "\n",
    "row_type1 = ('+ ' + '- '*h )* n + '+ \\n' # create the solid horizontal line type\n",
    "row_type2 = ('| ' + '  '*h)* n + '| \\n'   # create the empty box  \" \"\n",
    "\n",
    "row_type2v = row_type2 * v    # stack type2 to build box v tall\n",
    "\n",
    "grid = (row_type1 + row_type2v) * m + row_type1\n",
    "\n",
    "print grid\n",
    "\n"
   ]
  },
  {
   "cell_type": "markdown",
   "metadata": {},
   "source": [
    "(b) Write a function that draws a similar grid with four rows and four columns."
   ]
  },
  {
   "cell_type": "code",
   "execution_count": 54,
   "metadata": {
    "collapsed": false
   },
   "outputs": [
    {
     "name": "stdout",
     "output_type": "stream",
     "text": [
      "+ - - - - + - - - - + - - - - + - - - - + \n",
      "|         |         |         |         | \n",
      "|         |         |         |         | \n",
      "|         |         |         |         | \n",
      "|         |         |         |         | \n",
      "+ - - - - + - - - - + - - - - + - - - - + \n",
      "|         |         |         |         | \n",
      "|         |         |         |         | \n",
      "|         |         |         |         | \n",
      "|         |         |         |         | \n",
      "+ - - - - + - - - - + - - - - + - - - - + \n",
      "|         |         |         |         | \n",
      "|         |         |         |         | \n",
      "|         |         |         |         | \n",
      "|         |         |         |         | \n",
      "+ - - - - + - - - - + - - - - + - - - - + \n",
      "|         |         |         |         | \n",
      "|         |         |         |         | \n",
      "|         |         |         |         | \n",
      "|         |         |         |         | \n",
      "+ - - - - + - - - - + - - - - + - - - - + \n",
      "\n"
     ]
    }
   ],
   "source": [
    "def mngrid(h, v, m, n):  \n",
    "    # (# Horiz. dashes, # Vert. dashes, # Rows boxes, # Col  boxes)\n",
    "    # gives complete control over box and grid dimensions \n",
    "    \n",
    "    row_type1 = ('+ ' + '- '*h )* n + '+ \\n' # create the solid horizontal line type\n",
    "    row_type2 = ('| ' + '  '*h)* n + '| \\n'   # create the empty box  \" \"\n",
    "\n",
    "    row_type2v = row_type2 * v    # stack type2 to build box v tall\n",
    "\n",
    "    grid = (row_type1 + row_type2v) * m + row_type1\n",
    "\n",
    "    print grid\n",
    "    \n",
    "mngrid(4,4,4,4)\n"
   ]
  },
  {
   "cell_type": "markdown",
   "metadata": {},
   "source": [
    "## Chapter 5.1 - 5.7"
   ]
  },
  {
   "cell_type": "markdown",
   "metadata": {},
   "source": [
    "Conditionals and Recursion\n",
    "\n",
    "Modulous operator: (%) works on integers, yields the remainder\n",
    "\n",
    "Booleen expressions: (==) returns true or false. type 'bool'\n",
    "\n",
    "Relational operators: !=  >  <  >=  <=  ==\n",
    "\n",
    "Logical operators: and, or, not\n",
    "   Note: confusing subtleties in combining logical operators and booleen expressions!\n",
    "   \n",
    "Conditional statements:'if' followed by a booleen expression. If true, the indented statement is executed and if not, then nothing happens\n",
    "\n",
    "Alternative execution: two possibilities and the condition determines which is executed. the alternatives are called 'branches'.\n",
    "\n",
    "Chained conditional: 'if' 'elif' 'else' used to determine execution branch when 2+ possibilities.\n",
    "\n",
    "Nested conditionals: literally what it says it is.\n",
    "\n",
    "NOTE: statements are followed by ':'"
   ]
  },
  {
   "cell_type": "markdown",
   "metadata": {},
   "source": [
    "### Exercise 3  \n",
    "\n",
    "Fermat’s Last Theorem says that there are no positive integers a, b, and c such that $a^n + b^n = c^n$ for any values of n greater than 2.\n",
    "\n",
    "(a) Write a function named `check_fermat` that takes four parameters—a, b, c and n—and that checks to see if Fermat’s theorem holds. If n is greater than 2 and it turns out to be true that\n",
    "$a^n + b^n = c^n$ the program should print, \"Holy smokes, Fermat was wrong!\" Otherwise the program should print, \"No, that doesn’t work.\""
   ]
  },
  {
   "cell_type": "code",
   "execution_count": 66,
   "metadata": {
    "collapsed": false
   },
   "outputs": [
    {
     "name": "stdout",
     "output_type": "stream",
     "text": [
      "Error.\n",
      "No, that doesn’t work.\n",
      "Error.\n"
     ]
    }
   ],
   "source": [
    "def check_fermat(a,b,c,n):\n",
    "    \n",
    "    if a**n + b**n == c**n  and n<=2:\n",
    "        print \"No, that doesn’t work.\"\n",
    "    elif a**n + b**n == c**n and n>2:\n",
    "        print \"Holy smokes, Fermat was wrong!\"\n",
    "    else:\n",
    "        print \"Error.\"\n",
    "\n",
    "check_fermat(2, 4, 6, 2)\n",
    "check_fermat(3, 4, 7, 1)\n",
    "check_fermat(3, 4, 5, 3)"
   ]
  },
  {
   "cell_type": "markdown",
   "metadata": {},
   "source": [
    "(b) Write a function that prompts the user to input values for a, b, c and n, converts them to integers, and uses check_fermat to check whether they violate Fermat’s theorem."
   ]
  },
  {
   "cell_type": "code",
   "execution_count": 5,
   "metadata": {
    "collapsed": false
   },
   "outputs": [
    {
     "name": "stdout",
     "output_type": "stream",
     "text": [
      "a?3\n",
      "b?5\n",
      "c?8\n",
      "n?0\n",
      "Error.\n"
     ]
    }
   ],
   "source": [
    "def check_fermat(a,b,c,n):\n",
    "    \n",
    "    if a**n + b**n == c**n  and n<=2:\n",
    "        print \"No, that doesn’t work.\"\n",
    "    elif a**n + b**n == c**n and n>2:\n",
    "        print \"Holy smokes, Fermat was wrong!\"\n",
    "    else:\n",
    "        print \"Error.\"\n",
    "        \n",
    "def check_fermat_prompt():\n",
    "    a = int(input('a?'))        \n",
    "    b = int(input('b?'))          \n",
    "    c = int(input('c?'))  \n",
    "    n = int(input('n?'))  \n",
    "\n",
    "    check_fermat(a,b,c,n)\n",
    "\n",
    "check_fermat_prompt()"
   ]
  },
  {
   "cell_type": "markdown",
   "metadata": {},
   "source": [
    "### Exercise 4  \n",
    "\n",
    "If you are given three sticks, you may or may not be able to arrange them in a triangle. For example, if one of the sticks is 12 inches long and the other two are one inch long, it is clear that you will not be able to get the short sticks to meet in the middle. For any three lengths, there is a simple test to see if it is possible to form a triangle:\n",
    "> If any of the three lengths is greater than the sum of the other two, then you cannot form a triangle. Otherwise, you can. (If the sum of two lengths equals the third, they form what is called a “degenerate” triangle.)\n",
    "\n",
    "(a) Write a function named `is_triangle` that takes three integers as arguments, and that prints either \"Yes\" or \"No,\" depending on whether you can or cannot form a triangle from sticks with the given lengths."
   ]
  },
  {
   "cell_type": "code",
   "execution_count": 7,
   "metadata": {
    "collapsed": false
   },
   "outputs": [
    {
     "name": "stdout",
     "output_type": "stream",
     "text": [
      "Yes.\n",
      "No.\n"
     ]
    }
   ],
   "source": [
    "def is_triangle(a,b,c):\n",
    "    if a+b>=c and a+c>=b and b+c>=a:\n",
    "        print 'Yes.'\n",
    "    else:\n",
    "        print 'No.'\n",
    "        \n",
    "is_triangle(3,4,5)\n",
    "is_triangle(3,2,7)"
   ]
  },
  {
   "cell_type": "markdown",
   "metadata": {},
   "source": [
    "(b) Write a function that prompts the user to input three stick lengths, converts them to integers, and uses is_triangle to check whether sticks with the given lengths can form a triangle."
   ]
  },
  {
   "cell_type": "code",
   "execution_count": 8,
   "metadata": {
    "collapsed": false
   },
   "outputs": [
    {
     "name": "stdout",
     "output_type": "stream",
     "text": [
      "a?1\n",
      "b?1\n",
      "c?1\n",
      "Yes.\n"
     ]
    }
   ],
   "source": [
    "def is_triangle(a,b,c):\n",
    "    if a+b>=c and a+c>=b and b+c>=a:\n",
    "        print 'Yes.'\n",
    "    else:\n",
    "        print 'No.'\n",
    "\n",
    "def is_triangle_prompt():\n",
    "    a = int(input('a?'))        \n",
    "    b = int(input('b?'))          \n",
    "    c = int(input('c?'))  \n",
    "    is_triangle(a,b,c)\n",
    "    \n",
    "is_triangle_prompt()"
   ]
  },
  {
   "cell_type": "markdown",
   "metadata": {},
   "source": [
    "## Notes for the Instructors\n",
    "\n",
    "Please use the space below to write comments to help us plan the next class session.  For instance, if you want to see us go over an example of a particular type of problem, you can indicate that here.\n",
    "\n",
    "Please remember that the best way to get quick feedback from the instructors as well as your peers, is to use Piazza.  However, consider using this channel if it doesn't make sense to post your note to Piazza."
   ]
  },
  {
   "cell_type": "markdown",
   "metadata": {},
   "source": []
  }
 ],
 "metadata": {
  "kernelspec": {
   "display_name": "Python 2",
   "language": "python",
   "name": "python2"
  },
  "language_info": {
   "codemirror_mode": {
    "name": "ipython",
    "version": 2
   },
   "file_extension": ".py",
   "mimetype": "text/x-python",
   "name": "python",
   "nbconvert_exporter": "python",
   "pygments_lexer": "ipython2",
   "version": "2.7.6"
  }
 },
 "nbformat": 4,
 "nbformat_minor": 0
}
