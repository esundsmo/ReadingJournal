{
 "cells": [
  {
   "cell_type": "markdown",
   "metadata": {},
   "source": [
    "# Day 2 Reading Journal\n",
    "\n",
    "This journal includes several required exercises, but it is meant to encourage active reading more generally.  You should use the journal to take detailed notes, catalog questions, and explore the content from Think Python deeply.\n",
    "\n",
    "Reading: Think Python Chapter 6.1-6.4, 7\n",
    "\n",
    "**Due: Thursday, January 28 at 12 noon**\n",
    "\n"
   ]
  },
  {
   "cell_type": "markdown",
   "metadata": {},
   "source": [
    "## [Chapter 6.1-6.4](http://www.greenteapress.com/thinkpython/html/thinkpython007.html)\n",
    "\n",
    "Note: the exercise numbers below match up with the reading for ease of cross referencing."
   ]
  },
  {
   "cell_type": "markdown",
   "metadata": {},
   "source": [
    "Fruitful function return statements incudes an expression\n",
    "\n",
    "Return: stop this branch and use the following expression as a return value\n",
    "\n",
    "Temporary variables: temp  make debugging easier\n",
    "\n",
    "Incremental development: add and test small amounts of code at a time to avoid lots of debugging in more complex programs. Can seriously over complicate the process of creating simple programs.\n",
    "\n",
    "Composition: calling one function from within another (like nesting!)\n",
    "\n",
    "Booleen functions: combine a booleen expression with a return statement to get a true/false answer, without the conditionals!"
   ]
  },
  {
   "cell_type": "markdown",
   "metadata": {},
   "source": [
    "**Quick check:** What is a _fruitful function_? "
   ]
  },
  {
   "cell_type": "markdown",
   "metadata": {},
   "source": [
    "A function that outputs a result (expression) that can be used later."
   ]
  },
  {
   "cell_type": "markdown",
   "metadata": {},
   "source": [
    " "
   ]
  },
  {
   "cell_type": "markdown",
   "metadata": {},
   "source": [
    "### Exercise 1  \n",
    "Write a `compare` function that returns `1` if `x > y`, `0` if `x == y`, and `-1` if `x < y`."
   ]
  },
  {
   "cell_type": "code",
   "execution_count": 9,
   "metadata": {
    "collapsed": false
   },
   "outputs": [
    {
     "data": {
      "text/plain": [
       "'-1'"
      ]
     },
     "execution_count": 9,
     "metadata": {},
     "output_type": "execute_result"
    }
   ],
   "source": [
    "def compare(x, y):\n",
    "    if x >y:\n",
    "        return '1'\n",
    "    elif x==y:\n",
    "        return '0'\n",
    "    elif x < y:\n",
    "        return '-1'\n",
    "        \n",
    "#compare(9,3)  #1\n",
    "#compare(4,4)  #0\n",
    "compare(2,27) #-1\n",
    "#compare(0,0)   #0"
   ]
  },
  {
   "cell_type": "markdown",
   "metadata": {},
   "source": [
    "**Quick check:** Modify the `absolute_value` function so that it returns the correct result for all integer inputs."
   ]
  },
  {
   "cell_type": "code",
   "execution_count": 16,
   "metadata": {
    "collapsed": false
   },
   "outputs": [
    {
     "data": {
      "text/plain": [
       "'Not an integer!'"
      ]
     },
     "execution_count": 16,
     "metadata": {},
     "output_type": "execute_result"
    }
   ],
   "source": [
    "def absolute_value(x):\n",
    "    if type(x) != int:\n",
    "        return \"Not an integer!\"\n",
    "    if x < 0:\n",
    "        return -x\n",
    "    if x >= 0:\n",
    "        return x\n",
    "    \n",
    "absolute_value(1.3)"
   ]
  },
  {
   "cell_type": "markdown",
   "metadata": {},
   "source": [
    "### Exercise 2  \n",
    "Use incremental development to write a function called `hypotenuse` that returns the length of the hypotenuse of a right triangle given the lengths of the two legs as arguments. Record each stage of the development process as you go, using as many cells as you need."
   ]
  },
  {
   "cell_type": "code",
   "execution_count": 26,
   "metadata": {
    "collapsed": false
   },
   "outputs": [
    {
     "data": {
      "text/plain": [
       "5.0"
      ]
     },
     "execution_count": 26,
     "metadata": {},
     "output_type": "execute_result"
    }
   ],
   "source": [
    "def hypotenuse(a,b):\n",
    "    #We know we need to use pythagorean theorem: a**2 + b**2 = c**2\n",
    "    #We need to take the square root of both sides to isolate c...\n",
    "    \n",
    "    import math #... so import math! the sqrt function can be used with dot notation!\n",
    "    c = math.sqrt(a**2 + b**2) #an intermediate step would be to let c=5\n",
    "    \n",
    "    return c #Boom! Done!\n",
    "\n",
    "hypotenuse(3, 4) #Because 3-4-5 triangles are pretty :D"
   ]
  },
  {
   "cell_type": "markdown",
   "metadata": {},
   "source": [
    "### Exercise 3  \n",
    "Write a function `is_between(x, y, z)` that returns `True` if `x ≤ y ≤ z` or `False` otherwise."
   ]
  },
  {
   "cell_type": "code",
   "execution_count": 28,
   "metadata": {
    "collapsed": false
   },
   "outputs": [
    {
     "data": {
      "text/plain": [
       "False"
      ]
     },
     "execution_count": 28,
     "metadata": {},
     "output_type": "execute_result"
    }
   ],
   "source": [
    "def is_between(x, y, z):\n",
    "    return x <= y and y <= z\n",
    "\n",
    "#is_between(3,4,5) #true\n",
    "#is_between(-2,41,97) #true\n",
    "is_between(0,4,-2) #false"
   ]
  },
  {
   "cell_type": "markdown",
   "metadata": {},
   "source": [
    "## [Chapter 7](http://www.greenteapress.com/thinkpython/html/thinkpython008.html)\n",
    "\n"
   ]
  },
  {
   "cell_type": "markdown",
   "metadata": {},
   "source": [
    "**Quick check:** How do you test for equality in Python? "
   ]
  },
  {
   "cell_type": "markdown",
   "metadata": {},
   "source": [
    "Booleen expression: == "
   ]
  },
  {
   "cell_type": "markdown",
   "metadata": {},
   "source": [
    "**Challenge:** Prove/disprove the Collatz conjecture :)   Hmmmm.... :P"
   ]
  },
  {
   "cell_type": "markdown",
   "metadata": {},
   "source": [
    "Multiple assignment: lineage of values tied to a variable with respect to time of execution within the script. Make sure to use a booleen to check for equality to avoid accidental assignment!\n",
    "\n",
    "Note: must initialize a variable (x=0) before can update it (x = x+1). Updates can be an increment, decrement, or a fancy function.\n",
    "\n",
    "\n",
    "Automating repetetive tasks: countdown, print_n, while (loop)\n",
    "\n",
    "While: evaluate a condition (T/F), if F exit while statement and continue with script. If T, execute body of while statement and re-evaluate.\n",
    "\n",
    "Note: be wary of infinite loops. They can make your computer screen go Elsa.\n",
    "\n",
    "Break: used to escape loops. Poor hotwheels-- they dont have brakes :/\n",
    "  \n",
    "   Note: used with a booleen check and executed on a T return\n",
    "\n",
    "\n",
    "\n"
   ]
  },
  {
   "cell_type": "markdown",
   "metadata": {},
   "source": [
    "### Exercise 2  \n",
    "Encapsulate the loop from Section 7.5 in a function called `square_root` that takes `a` as a parameter, chooses a reasonable value of `x`, and returns an estimate of the square root of `a`."
   ]
  },
  {
   "cell_type": "code",
   "execution_count": 63,
   "metadata": {
    "collapsed": false
   },
   "outputs": [
    {
     "data": {
      "text/plain": [
       "'2.0 and 2.0*i'"
      ]
     },
     "execution_count": 63,
     "metadata": {},
     "output_type": "execute_result"
    }
   ],
   "source": [
    "def square_root(a):\n",
    "    \n",
    "    count = 50    # security against infinite loops\n",
    "    imaginary = 0 # in case negative number\n",
    "    \n",
    "    if a<0:       # will use this at the final print line if negative\n",
    "        a = -a    # to return real and imaginary roots\n",
    "        imaginary = 1\n",
    "        \n",
    "    if a == 0:    # because zero is a hero\n",
    "        return 0\n",
    "    \n",
    "    x = a/2 #initial value and set up, \n",
    "    y = (x + a/x) /2.0 #need these x and y values for first run of while loop!\n",
    "    \n",
    "    while x!=y:\n",
    "        \n",
    "        x = y   # set new x equal to old y\n",
    "        y = (x + a/x) /2.0   # find new y using new x\n",
    "        count = count - 1    # decriment security counter\n",
    "        \n",
    "        if count == 0: # ABORT MISSION!!! ABORT MISSION!!!!\n",
    "            return 'Taking too long, sorry!'\n",
    "        \n",
    "    if imaginary == 1:\n",
    "            return str(y) + ' and ' + str(y) +'*i' #Hah! Win! :D\n",
    "            \n",
    "    print(y) #Mission Complete.\n",
    "    \n",
    "square_root(-4)"
   ]
  },
  {
   "cell_type": "markdown",
   "metadata": {},
   "source": [
    "### Exercise 3  \n",
    "To test the square root algorithm you developed in Exercise 2, you could compare it with Python's `math.sqrt` function. Write a function named `test_square_root` that prints a table like this:\n",
    "\n",
    "```python\n",
    "1.0 1.0           1.0           0.0\n",
    "2.0 1.41421356237 1.41421356237 2.22044604925e-16\n",
    "3.0 1.73205080757 1.73205080757 0.0\n",
    "4.0 2.0           2.0           0.0\n",
    "5.0 2.2360679775  2.2360679775  0.0\n",
    "6.0 2.44948974278 2.44948974278 0.0\n",
    "7.0 2.64575131106 2.64575131106 0.0\n",
    "8.0 2.82842712475 2.82842712475 4.4408920985e-16\n",
    "9.0 3.0           3.0           0.0\n",
    "```\n",
    "\n",
    "The first column is a number, `a`; the second column is the square root of a computed with the function from Section 7.5; the third column is the square root computed by `math.sqrt`; the fourth column is the absolute value of the difference between the two estimates."
   ]
  },
  {
   "cell_type": "code",
   "execution_count": 74,
   "metadata": {
    "collapsed": false
   },
   "outputs": [
    {
     "name": "stdout",
     "output_type": "stream",
     "text": [
      "0 0 0.0 0.0\n",
      "1 1.0 1.0 0.0\n",
      "2 1.41421356237 1.41421356237 2.22044604925e-16\n",
      "3 1.73205080757 1.73205080757 0.0\n",
      "4 2.0 2.0 0.0\n",
      "5 2.2360679775 2.2360679775 0.0\n",
      "6 2.44948974278 2.44948974278 0.0\n",
      "7 2.64575131106 2.64575131106 0.0\n",
      "8 2.82842712475 2.82842712475 4.4408920985e-16\n",
      "9 3.0 3.0 0.0\n",
      "10 3.16227766017 3.16227766017 4.4408920985e-16\n"
     ]
    }
   ],
   "source": [
    "def square_root(a):\n",
    "  \n",
    "    count = 50    # security against infinite loops\n",
    "    imaginary = 0 # in case negative number\n",
    "    \n",
    "    if a<0:       # will use this at the final print line if negative\n",
    "        a = -a    # to return real and imaginary roots\n",
    "        imaginary = 1\n",
    "        \n",
    "    if a == 0:    # because zero is a hero\n",
    "        return 0\n",
    "    \n",
    "    x = a/2.0 #initial guess \n",
    "    y = (x + a/x) /2.0 #need these x and y values foutside while loop for initial run\n",
    "    \n",
    "    while x!=y:\n",
    "        \n",
    "        x = y   # set new x equal to old y\n",
    "        y = (x + a/x) /2.0   # find new y using new x\n",
    "        count = count - 1    # decriment security counter\n",
    "        \n",
    "        if count == 0: # ABORT MISSION!!! ABORT MISSION!!!!\n",
    "            return 'Taking too long, sorry!'\n",
    "        \n",
    "    if imaginary == 1:\n",
    "            return str(y) + ' and ' + str(y) +'*i' #Hah! Win! :D\n",
    "            \n",
    "    return y #Mission Complete.\n",
    "    \n",
    "    \n",
    "def test_square_root():\n",
    "    import math\n",
    "    \n",
    "    a = 0\n",
    "    big_a = 10\n",
    "    \n",
    "    while a <= big_a:\n",
    "        \n",
    "        print  a, square_root(a), math.sqrt(a), abs(square_root(a) - math.sqrt(a))\n",
    "        a = a+1\n",
    "# Yeah this is super messy... i tried making a matrix and a modified version of the right_justify code, but to no avail.\n",
    "# I now choose sleep over adjusting everything manually!\n",
    "\n",
    "        \n",
    "        \n",
    "test_square_root()"
   ]
  },
  {
   "cell_type": "markdown",
   "metadata": {},
   "source": [
    "### Challenge: Exercise 5  (optional)\n",
    "The mathematician Srinivasa Ramanujan found an infinite series that can be used to generate a numerical approximation of\n",
    "$\\frac{1}{\\pi}$:\n",
    "\n",
    "$$\\frac{1}{\\pi} = \\frac{2 \\sqrt{2}}{9801} \\sum_{k=0}^{\\infty} \\frac{(4k)! (1103+26390k)}{(k!)^4 396^{4k}}$$\n",
    " \n",
    "Write a function called `estimate_pi` that uses this formula to compute and return an estimate of $\\pi$. It should use a `while` loop to compute terms of the summation until the last term is smaller than `1e-15` (which is Python notation for $10^{−15}$). You can check the result by comparing it to `math.pi`.\n",
    "\n",
    "[Possible solution](http://thinkpython.com/code/pi.py) (give the exercise a try before viewing the solution)"
   ]
  },
  {
   "cell_type": "code",
   "execution_count": null,
   "metadata": {
    "collapsed": true
   },
   "outputs": [],
   "source": []
  },
  {
   "cell_type": "markdown",
   "metadata": {},
   "source": [
    "## Reading Journal feedback\n",
    "\n",
    "Have any comments on this Reading Journal? Feel free to leave them below and we'll read them when you submit your journal entry. This could include suggestions to improve the exercises, topics you'd like to see covered in class next time, or other feedback.\n",
    "\n",
    "If you have Python questions or run into problems while completing the reading, you should post them to Piazza instead so you can get a quick response before your journal is submitted."
   ]
  },
  {
   "cell_type": "markdown",
   "metadata": {},
   "source": [
    " "
   ]
  }
 ],
 "metadata": {
  "kernelspec": {
   "display_name": "Python 2",
   "language": "python",
   "name": "python2"
  },
  "language_info": {
   "codemirror_mode": {
    "name": "ipython",
    "version": 2
   },
   "file_extension": ".py",
   "mimetype": "text/x-python",
   "name": "python",
   "nbconvert_exporter": "python",
   "pygments_lexer": "ipython2",
   "version": "2.7.6"
  }
 },
 "nbformat": 4,
 "nbformat_minor": 0
}
