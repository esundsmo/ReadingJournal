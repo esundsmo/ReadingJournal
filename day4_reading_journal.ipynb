{
 "cells": [
  {
   "cell_type": "markdown",
   "metadata": {},
   "source": [
    "# Day 4 Reading Journal\n",
    "\n",
    "This journal includes several required exercises, but it is meant to encourage active reading more generally.  You should use the journal to take detailed notes, catalog questions, and explore the content from Think Python deeply.\n",
    "\n",
    "Reading: Think Python Chapter 10\n",
    "\n",
    "**Due: Thursday, February 4 at 12 noon**\n",
    "\n"
   ]
  },
  {
   "cell_type": "code",
   "execution_count": null,
   "metadata": {
    "collapsed": true
   },
   "outputs": [],
   "source": [
    "### NOTES FROM CLASS REVIEW OF DAY 3 JOURNAL ###   \n",
    "\n",
    "pass #function placeholder to be syntactically correct python statement, can also input 0\n",
    "    \n",
    "'a' in 'aeiouy'                 #applied to gene_finder code\n",
    "'a' in ['a' 'e' 'i' 'o' 'u' 'y']  #if dna[i:i2] in ['TAA', 'TAG', 'TGA']  \n",
    "\n",
    "\"Soft Des\". split() # \"Soft\" \"Des\"\n",
    "\"Soft Des\". split() # \"Soft\" \"Des\"\n",
    "\"Softeee Des\". split(e) # \"Soft\" \"\" \"\" \"D\" \"s\"\n",
    "\n",
    "str.strip() #remove specific characters without respect to the order of chars\n",
    "    #typically used to get wid of white-space\n",
    "str.endswith() #checks the ending of a string and returns T/F\n",
    "str.startswith()\n",
    "str.islower() #checks if string is lowercase (isupper also exists)\n",
    "\n",
    "#list comprehensions\n",
    "def add_igredient():\n",
    "    newMneu = [i+ \" with \" +ingredient for i in menu]\n",
    "    return newMenu\n",
    "\n",
    "\n",
    "#to use doctest\n",
    "import doctest...\n",
    "\n",
    "\"\"\"\n",
    "or evaluates with preference for the first true\n",
    "\n",
    "i as a variable: there is an expectation that i is used as an index variable\n",
    "\n",
    "\"\"\""
   ]
  },
  {
   "cell_type": "markdown",
   "metadata": {},
   "source": [
    "## [Chapter 10](http://www.greenteapress.com/thinkpython/html/thinkpython011.html)\n",
    "\n",
    "You may want to review [state diagrams in Chapter 2](http://www.greenteapress.com/thinkpython/html/thinkpython003.html#toc13). [Python Tutor](http://pythontutor.com/) is also helpful for visualizing the state of your program.\n",
    "\n"
   ]
  },
  {
   "cell_type": "markdown",
   "metadata": {},
   "source": [
    "**Repeat notes from Day 3 Journal (plus elaboration)**\n",
    "\n",
    "\n",
    "List: sequence of values of any type. Values in lists are called elements or items. Lists can be nested inside each other (internal list counts as an element), and are mutable (commands exist to change the contents of a current list without creating a new one from old pieces).\n",
    "\n",
    "List methods use dot notation list_name.method(argument). append (add a new value to the end), extend (change one list by adding a copy of another list into a newly added index at the end of the list being changed), sort (arranges elements low to high; t = t.sort() = dissapointment)\n",
    "\n",
    "Augmented assignment statement: += (t+=x equivalent to t=t+x)\n",
    "\n",
    "Accumulator: a variable that sums elements as a loop is executed Note: a nifty way to do this is by initializing an empty list [] and appending to it.\n",
    "\n",
    "Map: 'maps' a function onto each of the elements in a sequence\n",
    "\n",
    "Reduce: an operation that combines a sequence of elements to a single value. ex) sum()\n",
    "\n",
    "Filters: conditionals that select some elements and filter out others ex) str.isupper()\n",
    "\n",
    "**Start of new notes (10.8+)**\n",
    "\n",
    "Deleting elements: str.pop(i); del L[i[:j]]; L.remove(i); str.remove(\"\"); delete_head(L); tail(L)\n",
    "\n",
    "Creating lists from strings: L = list(str)\n",
    "\n",
    "Delimiter: specifies which characters to use as word boundaries ex) delimiter = '-'\n",
    "\n",
    "Identical: same object (different name)\n",
    "Equivalent: same elements, different object\n",
    "\n",
    "Aliased: an object with more than one name, created by referencing (a = L; b=a; a is b #true)\n",
    "\n",
    "List arguments: when a list is passed to a function it is a reference to th list and the caller will see all modifications made\n",
    "\n",
    "NOTE: Most list methods modify the argument and return none, which is the opposite of string methods (so use the list methods on their own lines with reference to the list, but DONT set them equal to anything!!!)"
   ]
  },
  {
   "cell_type": "markdown",
   "metadata": {},
   "source": [
    "### Exercise 4  \n",
    "Write a function called `middle` that takes a list and returns a new list that contains all but the first and last elements. So `middle([1,2,3,4])` should return `[2,3]`."
   ]
  },
  {
   "cell_type": "code",
   "execution_count": 7,
   "metadata": {
    "collapsed": false
   },
   "outputs": [
    {
     "data": {
      "text/plain": [
       "[2, 3, 4, 5, 6]"
      ]
     },
     "execution_count": 7,
     "metadata": {},
     "output_type": "execute_result"
    }
   ],
   "source": [
    "def middle(input_list):\n",
    "    new_list = input_list[1:len(input_list)-1]\n",
    "    return new_list\n",
    "\n",
    "middle([1, 2, 3, 4, 5, 6, 7])"
   ]
  },
  {
   "cell_type": "markdown",
   "metadata": {},
   "source": [
    "### Exercise 5  \n",
    "Write a function called `chop` that takes a list, modifies it by removing the first and last elements, and returns `None`.\n",
    "\n",
    "What is the difference between `middle` and `chop`? Sketch out the program state or take a look at each in Python Tutor."
   ]
  },
  {
   "cell_type": "code",
   "execution_count": null,
   "metadata": {
    "collapsed": false
   },
   "outputs": [],
   "source": [
    "def chop(the_list):\n",
    "    the_list = the_list[1:len(input_list)-1]\n",
    "    \n",
    "    #The difference between middle() and chop() is that \n",
    "    #middle() creates and returns a new list, and chop() modifies the current list"
   ]
  },
  {
   "cell_type": "markdown",
   "metadata": {},
   "source": [
    "### Exercise 7  \n",
    "Two words are anagrams if you can rearrange the letters from one to spell the other. Write a function called `is_anagram` that takes two strings and returns `True` if they are anagrams."
   ]
  },
  {
   "cell_type": "code",
   "execution_count": 27,
   "metadata": {
    "collapsed": false
   },
   "outputs": [
    {
     "data": {
      "text/plain": [
       "True"
      ]
     },
     "execution_count": 27,
     "metadata": {},
     "output_type": "execute_result"
    }
   ],
   "source": [
    "def anagram(word1, word2): \n",
    "    #overwriting to push all to lower and remove spaces\n",
    "    word1 = word1.lower()\n",
    "    word2 = word2.lower()\n",
    "    word1 = word1.replace(\" \",\"\") #note str.strip() doesn't remove internal spaces\n",
    "    word2 = word2.replace(\" \",\"\")\n",
    "    \n",
    "    if len(word1) != len(word2):\n",
    "        return False\n",
    "    \n",
    "    i = 0\n",
    "    while i <len(word1):\n",
    "        if word1[i] in word2:\n",
    "            i+=1\n",
    "        else:\n",
    "            return False       \n",
    "    return True\n",
    "\n",
    "anagram('Tom Marvelo Riddle', 'I am Lord Voldemort') #True"
   ]
  },
  {
   "cell_type": "markdown",
   "metadata": {},
   "source": [
    "### Exercise 8  \n",
    "The (so-called) Birthday Paradox:\n",
    "1. Write a function called `has_duplicates` that takes a list and returns `True` if there is any element that appears more than once. It should not modify the original list.\n",
    "2. If there are 23 students in your class, what are the chances that two of you have the same birthday? You can estimate this probability by generating random samples of 23 birthdays and checking for matches. Hint: you can generate random birthdays with the randint function in the [random module](https://docs.python.org/2/library/random.html).\n",
    "\n",
    "You can read about this problem at http://en.wikipedia.org/wiki/Birthday_paradox, and you can download Allen's solution from http://thinkpython.com/code/birthday.py."
   ]
  },
  {
   "cell_type": "code",
   "execution_count": 25,
   "metadata": {
    "collapsed": false
   },
   "outputs": [
    {
     "data": {
      "text/plain": [
       "True"
      ]
     },
     "execution_count": 25,
     "metadata": {},
     "output_type": "execute_result"
    }
   ],
   "source": [
    "def  has_duplicates():\n",
    "    import random\n",
    "    i = 0\n",
    "    j = i+1\n",
    "    s = 0\n",
    "    students = 23\n",
    "    new_list = []\n",
    "    \n",
    "    \"\"\" NOTE: input argument input_list into function, and comment out rand while loop!\n",
    "    new_list = [] + input_list\n",
    "    #new_list.sort()  # This makes the function take a lot less steps, but\n",
    "                     # new_list was a reference to input_list so that got modified too...\n",
    "        >>>has_duplicates([10,5,6,3,19,3,72,10])   \n",
    "    \"\"\"\n",
    "    \n",
    "    while s < students:\n",
    "        new_list.append([random.randint(1,12), random.randint(1,31)])\n",
    "        s+=1\n",
    "        \n",
    "    print new_list # to perform a visual check of output if necessary\n",
    "    \n",
    "    while i < len(new_list):\n",
    "        while j<len(new_list):\n",
    "            if new_list[i] == new_list[j]:\n",
    "                return True\n",
    "            j+=1\n",
    "        i+=1\n",
    "        j=i+1\n",
    "    return False\n",
    "    \n",
    "has_duplicates()"
   ]
  },
  {
   "cell_type": "markdown",
   "metadata": {},
   "source": [
    "### Challenge: Exercise 11 (optional)\n",
    "\n",
    "You should read [Chapter 9.1](http://www.greenteapress.com/thinkpython/html/thinkpython010.html) and do Exercise 1 first.\n",
    "\n",
    "To check whether a word is in the word list, you could use the `in` operator, but it would be relatively slow because it searches through the words in order (try it).\n",
    "\n",
    "Because the words are in alphabetical order, we can speed things up with a bisection search (also known as binary search), which is similar to what you do when you look a word up in the dictionary. You start in the middle and check to see whether the word you are looking for comes before the word in the middle of the list. If so, then you search the first half of the list the same way. Otherwise you search the second half.\n",
    "\n",
    "Either way, you cut the remaining search space in half. If the word list has 113,809 words, it will take about 17 steps to find the word or conclude that it’s not there.\n",
    "\n",
    "Write a function called `bisect` that takes a sorted list and a target value and returns the index of the value in the list, if it’s there, or `None` if it’s not.\n",
    "\n",
    "Or you could read the documentation of the `bisect` module and use that! Solution: http://thinkpython.com/code/inlist.py."
   ]
  },
  {
   "cell_type": "code",
   "execution_count": null,
   "metadata": {
    "collapsed": true
   },
   "outputs": [],
   "source": []
  },
  {
   "cell_type": "markdown",
   "metadata": {},
   "source": [
    "## Reading Journal feedback\n",
    "\n",
    "Have any comments on this Reading Journal? Feel free to leave them below and we'll read them when you submit your journal entry. This could include suggestions to improve the exercises, topics you'd like to see covered in class next time, or other feedback.\n",
    "\n",
    "If you have Python questions or run into problems while completing the reading, you should post them to Piazza instead so you can get a quick response before your journal is submitted."
   ]
  },
  {
   "cell_type": "markdown",
   "metadata": {},
   "source": [
    " "
   ]
  }
 ],
 "metadata": {
  "kernelspec": {
   "display_name": "Python 2",
   "language": "python",
   "name": "python2"
  },
  "language_info": {
   "codemirror_mode": {
    "name": "ipython",
    "version": 2
   },
   "file_extension": ".py",
   "mimetype": "text/x-python",
   "name": "python",
   "nbconvert_exporter": "python",
   "pygments_lexer": "ipython2",
   "version": "2.7.6"
  }
 },
 "nbformat": 4,
 "nbformat_minor": 0
}
