{
 "cells": [
  {
   "cell_type": "markdown",
   "metadata": {},
   "source": [
    "# Day 10 Reading Journal\n",
    "\n",
    "This journal includes several required exercises, but it is meant to encourage active reading more generally.  You should use the journal to take detailed notes, catalog questions, and explore the content from Think Python deeply.\n",
    "\n",
    "Reading: Think Python Chapter 16, 17\n",
    "\n",
    "**Due: Thursday, February 25 at 12 noon**\n",
    "\n"
   ]
  },
  {
   "cell_type": "code",
   "execution_count": 32,
   "metadata": {
    "collapsed": false
   },
   "outputs": [
    {
     "name": "stdout",
     "output_type": "stream",
     "text": [
      "11:59:30\n",
      "<type 'int'>\n",
      "<class '__main__.Time'>\n",
      "8:44:7\n",
      "05:00:00\n"
     ]
    }
   ],
   "source": [
    "\"\"\"Class notes 2.25.16 -- creating user defined objects\"\"\"\n",
    "\n",
    "#Initial definition from chapter 16 in Think Python\n",
    "class Time(object):\n",
    "    \"\"\"\n",
    "    Represents the time of day.\n",
    "    \n",
    "    attributes: hour, minute, second\n",
    "    \"\"\"\n",
    "    \n",
    "    def __init__(self, hour=5, minute=0, second=0):\n",
    "        self.hour = hour\n",
    "        self.minute = minute\n",
    "        self.second = second\n",
    "        #above is essentially internal dictionary, \n",
    "        #which is attribute storage for classes\n",
    "    def __str__(self): # also __repr__ which is very similar to string\n",
    "        #return \"I'm a Time!\" #must be a string or print wont understand\n",
    "#         return str(self.hour)+\":\"+str(self.minute) #etc.\n",
    "        return \"{:02}:{:02}:{:02}\".format(self.hour,self.minute, self.second)\n",
    "    \n",
    "    \n",
    "if __name__==\"__main__\":\n",
    "    t1 = Time(11,59,30)\n",
    "    print t1\n",
    "    print type(3)  # int\n",
    "    print type(t1) # <class '__main__.Time'>\n",
    "    t2 = Time() #defaults to 5:00:00 because declaration definition\n",
    "    t2 = t2 # Objects are mutable!!!!!\n",
    "    \n",
    "    \n",
    "\"\"\"On another note, in the terminal you can do a bunch of string formatting things\"\"\"\n",
    "#check out py.format.info (might have messed that up-- google)\n",
    "print \"{}:{}:{}\".format(8, 44, 7)\n",
    "print Time()"
   ]
  },
  {
   "cell_type": "markdown",
   "metadata": {},
   "source": [
    "## [Chapter 16](http://www.greenteapress.com/thinkpython/html/thinkpython017.html)\n"
   ]
  },
  {
   "cell_type": "markdown",
   "metadata": {},
   "source": [
    "use dot notation to assign attributes\n",
    "\n",
    "prototype and patch - start simple and incrementally deal with complications\n",
    "\n",
    "planned development - high-level understanding of problem that makes program less complicated (as opposed to incremental, which can overcomplicate since it is case based).\n",
    "\n",
    "pure function - does not modify anything passed to it and has no effect other than returning a value\n",
    "\n",
    "\n",
    "Modifiers - a function that modifies the objects it gets as parameters. Anything modifiers can do can also be done with pure functions (use modifiers only when 'compelling advantage').\n",
    "\n"
   ]
  },
  {
   "cell_type": "markdown",
   "metadata": {
    "is_question": true,
    "problem": "Exercise 16.2"
   },
   "source": [
    "### Exercise 2  \n",
    "\n",
    "Write a boolean function called `is_after` that takes two `Time` objects, `t1` and `t2`, and returns `True` if `t1` follows `t2` chronologically and `False` otherwise. Challenge: don’t use an `if` statement. "
   ]
  },
  {
   "cell_type": "code",
   "execution_count": 30,
   "metadata": {
    "collapsed": false,
    "solution": "Exercise 16.2"
   },
   "outputs": [
    {
     "ename": "TypeError",
     "evalue": "unsupported operand type(s) for divmod(): 'Time' and 'int'",
     "output_type": "error",
     "traceback": [
      "\u001b[1;31m---------------------------------------------------------------------------\u001b[0m",
      "\u001b[1;31mTypeError\u001b[0m                                 Traceback (most recent call last)",
      "\u001b[1;32m<ipython-input-30-52287b2d36b3>\u001b[0m in \u001b[0;36m<module>\u001b[1;34m()\u001b[0m\n\u001b[0;32m     43\u001b[0m \u001b[1;31m# print time1\u001b[0m\u001b[1;33m\u001b[0m\u001b[1;33m\u001b[0m\u001b[0m\n\u001b[0;32m     44\u001b[0m \u001b[1;33m\u001b[0m\u001b[0m\n\u001b[1;32m---> 45\u001b[1;33m \u001b[0mtime_to_int\u001b[0m\u001b[1;33m(\u001b[0m\u001b[0mint_to_time\u001b[0m\u001b[1;33m(\u001b[0m\u001b[0mtime1\u001b[0m\u001b[1;33m)\u001b[0m\u001b[1;33m)\u001b[0m\u001b[1;33m==\u001b[0m \u001b[0mtime1\u001b[0m \u001b[1;31m#PROBLEM ALERT...\u001b[0m\u001b[1;33m\u001b[0m\u001b[0m\n\u001b[0m\u001b[0;32m     46\u001b[0m \u001b[0mis_after\u001b[0m\u001b[1;33m(\u001b[0m\u001b[0mtime1\u001b[0m\u001b[1;33m,\u001b[0m \u001b[0mtime2\u001b[0m\u001b[1;33m)\u001b[0m\u001b[1;33m\u001b[0m\u001b[0m\n",
      "\u001b[1;32m<ipython-input-30-52287b2d36b3>\u001b[0m in \u001b[0;36mint_to_time\u001b[1;34m(seconds)\u001b[0m\n\u001b[0;32m     24\u001b[0m \u001b[1;32mdef\u001b[0m \u001b[0mint_to_time\u001b[0m\u001b[1;33m(\u001b[0m\u001b[0mseconds\u001b[0m\u001b[1;33m)\u001b[0m\u001b[1;33m:\u001b[0m\u001b[1;33m\u001b[0m\u001b[0m\n\u001b[0;32m     25\u001b[0m     \u001b[0mtime\u001b[0m \u001b[1;33m=\u001b[0m\u001b[0mTime\u001b[0m\u001b[1;33m(\u001b[0m\u001b[1;33m)\u001b[0m\u001b[1;33m\u001b[0m\u001b[0m\n\u001b[1;32m---> 26\u001b[1;33m     \u001b[1;33m(\u001b[0m\u001b[0mminutes\u001b[0m\u001b[1;33m,\u001b[0m \u001b[0mtime\u001b[0m\u001b[1;33m.\u001b[0m\u001b[0msecond\u001b[0m\u001b[1;33m)\u001b[0m \u001b[1;33m=\u001b[0m \u001b[0mdivmod\u001b[0m\u001b[1;33m(\u001b[0m\u001b[0mseconds\u001b[0m\u001b[1;33m,\u001b[0m \u001b[1;36m60\u001b[0m\u001b[1;33m)\u001b[0m\u001b[1;33m\u001b[0m\u001b[0m\n\u001b[0m\u001b[0;32m     27\u001b[0m     \u001b[1;33m(\u001b[0m\u001b[0mtime\u001b[0m\u001b[1;33m.\u001b[0m\u001b[0mhour\u001b[0m\u001b[1;33m,\u001b[0m \u001b[0mtime\u001b[0m\u001b[1;33m.\u001b[0m\u001b[0mminute\u001b[0m\u001b[1;33m)\u001b[0m \u001b[1;33m=\u001b[0m \u001b[0mdivmod\u001b[0m\u001b[1;33m(\u001b[0m\u001b[0mminutes\u001b[0m\u001b[1;33m,\u001b[0m \u001b[1;36m60\u001b[0m\u001b[1;33m)\u001b[0m\u001b[1;33m\u001b[0m\u001b[0m\n\u001b[0;32m     28\u001b[0m     \u001b[1;32mreturn\u001b[0m \u001b[0mtime\u001b[0m\u001b[1;33m\u001b[0m\u001b[0m\n",
      "\u001b[1;31mTypeError\u001b[0m: unsupported operand type(s) for divmod(): 'Time' and 'int'"
     ]
    }
   ],
   "source": [
    "# Tried to accept challenge... not quite there.\n",
    "# Moving on... sunk an hour on this. Cant reconcile the divmod inputs\n",
    "# divmod inputs were in ch 16 example\n",
    "\n",
    "class Time(object):\n",
    "    \"\"\"\n",
    "    Represents the time of day.   \n",
    "    Attributes: hour, minute, second\n",
    "    \"\"\"\n",
    "    \n",
    "    def __init__(self, hour=5, minute=0, second=0):\n",
    "        self.hour = hour\n",
    "        self.minute = minute\n",
    "        self.second = second\n",
    "\n",
    "    def __str__(self): \n",
    "        return \"{:02}:{:02}:{:02}\".format(self.hour,self.minute, self.second)\n",
    "\n",
    "def time_to_int(time):\n",
    "    minutes = time.hour * 60 + time.minute\n",
    "    seconds = minutes * 60 + time.second\n",
    "    return seconds\n",
    "    \n",
    "def int_to_time(seconds):\n",
    "    time =Time()\n",
    "    (minutes, time.second) = divmod(seconds, 60)\n",
    "    (time.hour, time.minute) = divmod(minutes, 60)\n",
    "    return time\n",
    "\n",
    "def subtract_time(t1, t2):\n",
    "    seconds = time_to_int(t2) - time_to_int(t1)\n",
    "    return seconds\n",
    "#     return int_to_time(seconds)\n",
    "    \n",
    "def is_after(t1, t2):\n",
    "    time0=Time(0,0,0)\n",
    "#     print (subtract_time(t1,t2))    \n",
    "    return bool(subtract_time(t1,t2)) # >= time0)\n",
    "\n",
    "\n",
    "time1 = Time(5, 15, 30)\n",
    "time2 = Time(6, 30, 50)\n",
    "# print time1\n",
    "\n",
    "time_to_int(int_to_time(time1))== time1 #PROBLEM ALERT...\n",
    "is_after(time1, time2)"
   ]
  },
  {
   "cell_type": "markdown",
   "metadata": {},
   "source": [
    "## [Chapter 17](http://www.greenteapress.com/thinkpython/html/thinkpython018.html)\n",
    "\n",
    "In chapter 17 we finally have the tools to really put user-defined classes to work! In the exercises for this reading journal, we'll go back and add methods to your `Point` class from Chapter 15 to make it a lot easier to use."
   ]
  },
  {
   "cell_type": "markdown",
   "metadata": {
    "is_question": true,
    "problem": "Exercise 17.2"
   },
   "source": [
    "### Exercise 2  \n",
    "\n",
    "Write an init method for the `Point` class that takes `x` and `y` as optional parameters and assigns them to the corresponding attributes. "
   ]
  },
  {
   "cell_type": "code",
   "execution_count": null,
   "metadata": {
    "collapsed": true,
    "solution": "Exercise 17.2"
   },
   "outputs": [],
   "source": [
    "class Point(object):\n",
    "    \"\"\"\n",
    "    Represents a 2D point.   \n",
    "    Attributes: x, y\n",
    "    \"\"\"\n",
    "    \n",
    "    def __init__(self, x, y):\n",
    "        self.x = x\n",
    "        self.y = y\n"
   ]
  },
  {
   "cell_type": "markdown",
   "metadata": {
    "is_question": true,
    "problem": "Exercise 17.3"
   },
   "source": [
    "### Exercise 3  \n",
    "\n",
    "Write a str method for the `Point` class. Create a `Point` object and print it."
   ]
  },
  {
   "cell_type": "code",
   "execution_count": 33,
   "metadata": {
    "collapsed": false,
    "solution": "Exercise 17.3"
   },
   "outputs": [
    {
     "name": "stdout",
     "output_type": "stream",
     "text": [
      "(03, 04)\n"
     ]
    }
   ],
   "source": [
    "class Point(object):\n",
    "    \"\"\"\n",
    "    Represents a 2D point.   \n",
    "    Attributes: x, y\n",
    "    \"\"\"\n",
    "    \n",
    "    def __init__(self, x, y):\n",
    "        self.x = x\n",
    "        self.y = y\n",
    "        \n",
    "    def __str__(self):\n",
    "        return \"({:02}, {:02})\".format(self.x,self.y)\n",
    "\n",
    "p1 = Point(3,4)\n",
    "print p1"
   ]
  },
  {
   "cell_type": "markdown",
   "metadata": {
    "is_question": true,
    "problem": "Exercise 17.4"
   },
   "source": [
    "### Exercise 4  \n",
    "\n",
    "Write an add method for the `Point` class. Optional: implement operator overloading so that you can use the '+' operator."
   ]
  },
  {
   "cell_type": "code",
   "execution_count": 51,
   "metadata": {
    "collapsed": false,
    "solution": "Exercise 17.4"
   },
   "outputs": [
    {
     "data": {
      "text/plain": [
       "'(08, 10)'"
      ]
     },
     "execution_count": 51,
     "metadata": {},
     "output_type": "execute_result"
    }
   ],
   "source": [
    "class Point(object):\n",
    "    \"\"\"\n",
    "    Represents a 2D point.   \n",
    "    Attributes: x, y\n",
    "    \"\"\"\n",
    "    \n",
    "    def __init__(self, x=0, y=0):\n",
    "        self.x = x\n",
    "        self.y = y\n",
    "        \n",
    "    def __str__(self):\n",
    "        return \"({:02}, {:02})\".format(self.x,self.y)\n",
    "    \n",
    "def add_points(p1, p2):\n",
    "    point = Point()\n",
    "    point.x = p1.x + p2.x\n",
    "    point.y = p1.y + p2.y\n",
    "    return str(point)\n",
    "\n",
    "point1 = Point(3, 4)\n",
    "point2 = Point(5, 6)\n",
    "add_points(point1,point2)"
   ]
  },
  {
   "cell_type": "markdown",
   "metadata": {
    "is_question": true,
    "problem": "Exercise 17.7"
   },
   "source": [
    "### Exercise 7  \n",
    "\n",
    "This exercise is a cautionary tale about one of the most common, and difficult to find, errors in Python. Write a definition for a class named `Kangaroo` with the following methods:\n",
    "\n",
    " 1. An `__init__` method that initializes an attribute named `pouch_contents` to an empty list.\n",
    " 2. A method named `put_in_pouch` that takes an object of any type and adds it to `pouch_contents`.\n",
    " 3. A `__str__` method that returns a string representation of the `Kangaroo` object and the contents of the pouch.\n",
    "\n",
    "Test your code by creating two `Kangaroo` objects, assigning them to variables named `kanga` and `roo`, and then adding `roo` to the contents of `kanga`’s pouch.\n",
    "\n",
    "Download http://thinkpython.com/code/BadKangaroo.py. It contains a solution to the previous problem with one big, nasty bug. Find and fix the bug.\n",
    "\n",
    "If you get stuck, you can download http://thinkpython.com/code/GoodKangaroo.py, which explains the problem and demonstrates a solution. "
   ]
  },
  {
   "cell_type": "code",
   "execution_count": 104,
   "metadata": {
    "collapsed": false,
    "solution": "Exercise 17.7"
   },
   "outputs": [
    {
     "name": "stdout",
     "output_type": "stream",
     "text": [
      "The kangaroo <__main__.Kangaroo object at 0x7f881cbfdf90> has ['mango', 'rock', <__main__.Kangaroo object at 0x7f881cc2a310>] in their pouch.\n"
     ]
    }
   ],
   "source": [
    "class Kangaroo(object):\n",
    "    \"\"\"Represents a Kangaroo-- \n",
    "       Cautionary tale for common error in Python\n",
    "    \"\"\"\n",
    "    \n",
    "    def __init__(self, contents = None):\n",
    "                \n",
    "        if contents == None:\n",
    "            contents = [] #Initialize list here, else all kangaroos get copy of same list\n",
    "        self.pouch_contents = contents\n",
    "    \n",
    "    def __str__(self):\n",
    "        # The line directly below was used in attempt to find the true name of the elusive Kangaroos...\n",
    "#         return \"Imma kangaROOO!!! My name is {} and dis ma shit: {}\".format(\"BOB\", self.pouch_contents)\n",
    "        return \"The kangaroo {} has {} in their pouch.\".format(object.__str__(self), self.pouch_contents)\n",
    "    \n",
    "    def put_in_pouch(self, thing):\n",
    "        self.pouch_contents.append(thing)\n",
    "        \n",
    "    \n",
    "kanga = Kangaroo()\n",
    "roo = Kangaroo()\n",
    "kanga.put_in_pouch('mango')\n",
    "kanga.put_in_pouch(\"rock\")\n",
    "\n",
    "kanga.put_in_pouch(roo)\n",
    "\n",
    "print kanga #Keep getting location rather than object name-- why??"
   ]
  },
  {
   "cell_type": "markdown",
   "metadata": {
    "is_question": true,
    "problem": "Time spent"
   },
   "source": [
    "## Quick poll\n",
    "About how long did you spend working on this Reading Journal?"
   ]
  },
  {
   "cell_type": "markdown",
   "metadata": {
    "poll_response": true,
    "solution": "Time spent"
   },
   "source": [
    "3-4 hours? Kinda skimmed reading. Most of time was taken by Kangaroo (after writing initial attempt i was quick to compare-- i fell for the list trap), but my main issue was with actually returning the given name of the kangaroo object rather than its location-- still confused after an hour of playing with it and googling. Also stuck on the type error for divmod. "
   ]
  },
  {
   "cell_type": "markdown",
   "metadata": {
    "is_question": true,
    "problem": "Feedback"
   },
   "source": [
    "## Reading Journal feedback\n",
    "\n",
    "Have any comments on this Reading Journal? Feel free to leave them below and we'll read them when you submit your journal entry. This could include suggestions to improve the exercises, topics you'd like to see covered in class next time, or other feedback.\n",
    "\n",
    "If you have Python questions or run into problems while completing the reading, you should post them to Piazza instead so you can get a quick response before your journal is submitted."
   ]
  },
  {
   "cell_type": "markdown",
   "metadata": {
    "feedback_response": true,
    "solution": "Feedback"
   },
   "source": [
    " "
   ]
  }
 ],
 "metadata": {
  "celltoolbar": "Edit Metadata",
  "kernelspec": {
   "display_name": "Python 2",
   "language": "python",
   "name": "python2"
  },
  "language_info": {
   "codemirror_mode": {
    "name": "ipython",
    "version": 2
   },
   "file_extension": ".py",
   "mimetype": "text/x-python",
   "name": "python",
   "nbconvert_exporter": "python",
   "pygments_lexer": "ipython2",
   "version": "2.7.6"
  }
 },
 "nbformat": 4,
 "nbformat_minor": 0
}
