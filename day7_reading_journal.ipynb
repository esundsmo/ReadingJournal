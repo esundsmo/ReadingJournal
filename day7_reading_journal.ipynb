{
 "cells": [
  {
   "cell_type": "markdown",
   "metadata": {},
   "source": [
    "# Day 7 Reading Journal\n",
    "\n",
    "This journal includes several required exercises, but it is meant to encourage active reading more generally.  You should use the journal to take detailed notes, catalog questions, and explore the content from Think Python deeply.\n",
    "\n",
    "Reading: Think Python Chapter 11, 12\n",
    "\n",
    "**Due: Thursday, February 18 at 12 noon**\n",
    "\n"
   ]
  },
  {
   "cell_type": "code",
   "execution_count": null,
   "metadata": {
    "collapsed": true
   },
   "outputs": [],
   "source": [
    "#Class Notes 2/11/16\n",
    "\n",
    "#last index item of string/list:\n",
    "word[-1]\n",
    "#index from end of string/list:\n",
    "word[:-1]\n",
    "\n",
    "#re: doctesting, replace function with own function name\n",
    "doctest.run_docstring_examples(function, globals())\n",
    "\n"
   ]
  },
  {
   "cell_type": "markdown",
   "metadata": {},
   "source": [
    "## [Chapter 11](http://www.greenteapress.com/thinkpython/html/thinkpython012.html)\n"
   ]
  },
  {
   "cell_type": "markdown",
   "metadata": {},
   "source": [
    "Dictionary: like a list but more general. indices can be any type. dictionaries map between keys (indices) and a set of values, together a key-value-pair or an item.\n",
    "\n",
    "Note that order of items in a dictionary is unpredictable.\n",
    "\n",
    "Python hashtable-- algorithm, 'in' operator takes same amount of time no matter size of dictionary.\n",
    "\n",
    "keys: dictionary method that returns keys of that dictionary\n",
    "\n",
    "singleton - list containing a single element.\n",
    "\n",
    "hash - function that takes a value of any kind and returns an int. dictionaries use hashvalues to store and look up key-value pairs. If keys are mutable (like lists) bad things can happen-- so only use lists and dictionaries as values within dictionaries!\n",
    "\n",
    "\n",
    "memo - previously computed value stored in dictionary for later use (saves computation time)\n",
    "\n",
    "global - variables that can be accessed from any function (must be declared before used \"global variable_name\" so a local variable isn't created)\n",
    "\n",
    "flags - booleen variables (use of globals common) ex. verbose\n",
    "\n",
    "long - an int that can be arbitrarily long, takes more space and time\n",
    "\n",
    "Debugging - scale down the input, check summaries and types, write self-checks, pretty print the output (pprint)"
   ]
  },
  {
   "cell_type": "code",
   "execution_count": 3,
   "metadata": {
    "collapsed": true
   },
   "outputs": [],
   "source": [
    "def histogram(s):\n",
    "    \"\"\"creates a dictionary of letters present in a string, increments for multiple letters\"\"\"\n",
    "    d = dict() #creates dictionary\n",
    "    for c in s: #traverses string\n",
    "        if c not in d: #if the key (current letter) DNE, create it\n",
    "            d[c] = 1  #set new keys value to 1\n",
    "        else:\n",
    "            d[c] +=1 #if already in the dictionary, increment value\n",
    "    return d"
   ]
  },
  {
   "cell_type": "code",
   "execution_count": 4,
   "metadata": {
    "collapsed": false
   },
   "outputs": [],
   "source": [
    "def reverse_lookup (d, v):\n",
    "    \"\"\"Note that reverse lookups have a lot of pitfalls; \n",
    "    beware of multiple keys per value. This function returns the first\n",
    "    value to map to the given key.\"\"\"\n",
    "    for k in d:\n",
    "        if d[k] ==v:\n",
    "            return k\n",
    "    raise ValueError #raise causes an exception, \n",
    "        # ValueError indicates something wrong with the value parameter\n",
    "    "
   ]
  },
  {
   "cell_type": "code",
   "execution_count": null,
   "metadata": {
    "collapsed": true
   },
   "outputs": [],
   "source": [
    "def invert_dict(d):\n",
    "    inverse = dict() #create an empty dictionary to put stuff into\n",
    "    for key in d:\n",
    "        val = d[key]\n",
    "        if val not in inverse:\n",
    "            inverse[val] = [key] #use of singleton to create new item 'key'\n",
    "        else:\n",
    "            inverse[val].append(key)\n",
    "    return inverse"
   ]
  },
  {
   "cell_type": "markdown",
   "metadata": {},
   "source": [
    "**Quick check:** In about one sentence using your own words, what is a dictionary?"
   ]
  },
  {
   "cell_type": "markdown",
   "metadata": {},
   "source": [
    "A dictionary is a more general mapping method than a list. "
   ]
  },
  {
   "cell_type": "markdown",
   "metadata": {
    "is_question": true,
    "problem": "Exercise 11.2"
   },
   "source": [
    "### Exercise 2  \n",
    "\n",
    "Dictionaries have a [method called `get`](https://docs.python.org/2/library/stdtypes.html#mapping-types-dict) that takes a key and a default value. If the key appears in the dictionary, `get` returns the corresponding value; otherwise it returns the default value. For example:\n",
    "\n",
    "```\n",
    ">>> h = histogram('a')\n",
    ">>> print h\n",
    "{'a': 1}\n",
    ">>> h.get('a', 0)\n",
    "1\n",
    ">>> h.get('b', 0)\n",
    "0\n",
    "```\n",
    "\n",
    "Use `get` to write `histogram` more concisely. You should be able to eliminate the `if` statement. Add unit tests for your histogram implementation."
   ]
  },
  {
   "cell_type": "code",
   "execution_count": 17,
   "metadata": {
    "collapsed": false,
    "solution": "Exercise 11.2"
   },
   "outputs": [
    {
     "name": "stdout",
     "output_type": "stream",
     "text": [
      "{'a': 2, 'b': 1, 'n': 2}\n"
     ]
    }
   ],
   "source": [
    "def histogram(s): #wrong, a:3\n",
    "    d = dict()\n",
    "    for c in s:\n",
    "        if d.get(c, False) == True:\n",
    "            d[c] +=1        \n",
    "        elif d.get(c, False) == False:\n",
    "            d[c] = 1        \n",
    "    print d\n",
    "    \n",
    "    \n",
    "def histogram2(s): #doesn't work\n",
    "    d = dict()\n",
    "    for c in s:\n",
    "        d.get(c, d[c]) +=1  # i want it to incremement the return value of the existing key, or create a new key and incremement that value...   \n",
    "    print d\n",
    "        \n",
    "        \n",
    "histogram('banana')"
   ]
  },
  {
   "cell_type": "markdown",
   "metadata": {
    "is_question": true,
    "problem": "Exercise 11.4"
   },
   "source": [
    "### Exercise 4  \n",
    "\n",
    "Modify `reverse_lookup` so that it builds and returns a list of all keys that map to `v`, or an empty list if there are none. Add unit tests for your implementation."
   ]
  },
  {
   "cell_type": "code",
   "execution_count": 21,
   "metadata": {
    "collapsed": false,
    "solution": "Exercise 11.4"
   },
   "outputs": [
    {
     "data": {
      "text/plain": [
       "[]"
      ]
     },
     "execution_count": 21,
     "metadata": {},
     "output_type": "execute_result"
    }
   ],
   "source": [
    "def reverse_lookup(d, v):\n",
    "    key_list = []\n",
    "    for k in d:\n",
    "        if d[k] == v:\n",
    "            key_list.append(k)\n",
    "    return key_list\n",
    "    #raise ValueError\n",
    "    \n",
    "#reverse_lookup({'a':1, 'b':2, 'c':1 }, 1)\n",
    "reverse_lookup({'a':1, 'b':2, 'c':1 }, 2)\n",
    "#reverse_lookup({'a':1, 'b':2, 'c':1 }, 0)"
   ]
  },
  {
   "cell_type": "markdown",
   "metadata": {},
   "source": [
    "If you'd like to learn more about errors and exceptions, you can check out the [Python tutorial](https://docs.python.org/2/tutorial/errors.html) or read ahead to [Appendix A](http://www.greenteapress.com/thinkpython/html/thinkpython021.html) of Think Python. If you choose to use doctest for your unit testing, it can also [deal with exceptions](https://docs.python.org/2/library/doctest.html#what-about-exceptions)."
   ]
  },
  {
   "cell_type": "markdown",
   "metadata": {},
   "source": [
    "**Quick check** What type of objects can be used as keys to a dictionary, i.e. what property must they have?"
   ]
  },
  {
   "cell_type": "markdown",
   "metadata": {},
   "source": [
    "Keys should not be mutable; therefore they can be any type except a list or a dictionary."
   ]
  },
  {
   "cell_type": "markdown",
   "metadata": {
    "is_question": true,
    "problem": "Exercise 11.6"
   },
   "source": [
    "### Exercise 6 (modified)\n",
    "\n",
    "Create a memoized version of your Levenshtein distance function from Day 7. What kind of performance change do you see?\n",
    "\n",
    "Optional: If you'd like to get some quantitative results, you could check out the [timeit](https://docs.python.org/2/library/timeit.html) module\n",
    "\n",
    "Note: You can also study Fibonacci here if you prefer."
   ]
  },
  {
   "cell_type": "code",
   "execution_count": null,
   "metadata": {
    "collapsed": true,
    "solution": "Exercise 11.6"
   },
   "outputs": [],
   "source": [
    "known = {} #create a dictionary\n",
    "\n",
    "def levenshtein_distance(a,b):\n",
    "    if [a,b] in known: #i know inputting lists as keys is bad form...\n",
    "        return known[[a,b]] #if this combo has been seen before, return the value!\n",
    "    \n",
    "    \"\"\"the following should be the levenshtein_distance()\"\"\"\n",
    "    res = # didn't do this in class and miserably confused and no time to clear it up.\n",
    "    known[[a,b]] = res\n",
    "    return res"
   ]
  },
  {
   "cell_type": "markdown",
   "metadata": {},
   "source": [
    "## [Chapter 12](http://www.greenteapress.com/thinkpython/html/thinkpython013.html)\n",
    "\n",
    "**Quick check:** In about one sentence using your own words, what is a tuple?"
   ]
  },
  {
   "cell_type": "markdown",
   "metadata": {},
   "source": [
    "A tuple is an immutable sequence of values. ex: t = 'a','b','c' Note that parenthesis around the list are optional, and to create a tuple with a single element it must be followed by a comma: 'a',  \n",
    "NOTE: function tuple(s) will make a tuple of the string it is given\n",
    "\n",
    "\n",
    "tuple assignment switching is pretty: a, b = b, a\n",
    "NOTE: right side values are evaluated before starting assignments\n",
    "\n",
    "divmod(7,3) function with int inpurts and tuple return: quotient and remainder-- single return if =t, or pull apart =quot,rem\n",
    "\n",
    "a parameter name that starts with a * 'gathers' arguments into a tuple (*args ).   *\n",
    "a sequence of values can be 'scattered' by placing a * in front\n",
    "\n",
    "zip() takes two or more sequences and 'zips' them into a list of tuples where each tuple contains one element from each sequence. in P3 returns an iterator. if sequences are different lengths len(tuple) is the shorter one.\n",
    "\n",
    "enumerate() built in function that lets you traverse the elements and indeces of a sequence.\n",
    "\n"
   ]
  },
  {
   "cell_type": "code",
   "execution_count": null,
   "metadata": {
    "collapsed": true
   },
   "outputs": [],
   "source": [
    "\"\"\"for traversing more than 1 sequence at a time\"\"\"\n",
    "def has_match(t1, t2):\n",
    "    for x, y in zip(t1,t2):\n",
    "        if x == y:\n",
    "            return True\n",
    "    return False\n",
    "\n",
    "\"\"\"for concisely making a dictionary\"\"\"\n",
    "d = dict(zip('abc', range(3)))\n",
    "print d\n",
    "\n"
   ]
  },
  {
   "cell_type": "markdown",
   "metadata": {
    "is_question": true,
    "problem": "Exercise 12.1"
   },
   "source": [
    "### Exercise 1  \n",
    "\n",
    "Many of the built-in functions use variable-length argument tuples. For example, `max` and `min` can take any number of arguments:\n",
    "\n",
    "```\n",
    ">>> max(1,2,3)\n",
    "3\n",
    "```\n",
    "\n",
    "But `sum` does not.\n",
    "\n",
    "```\n",
    ">>> sum(1,2,3)\n",
    "TypeError: sum expected at most 2 arguments, got 3\n",
    "```\n",
    "\n",
    "Write a function called ```sumall``` that takes any number of arguments and returns their sum. \n",
    "\n",
    "Write unit tests for your function. Do I actually need to keep saying this? Let's assume it's always a good idea :)"
   ]
  },
  {
   "cell_type": "code",
   "execution_count": 26,
   "metadata": {
    "collapsed": false,
    "solution": "Exercise 12.1"
   },
   "outputs": [
    {
     "name": "stdout",
     "output_type": "stream",
     "text": [
      "2\n"
     ]
    }
   ],
   "source": [
    "def sumall(*args):\n",
    "    print sum(args)\n",
    "    \n",
    "#sumall(1,2,3) # 6\n",
    "sumall(1,-2,3) # 2\n",
    "#sumall('i',0,3) #nope!\n"
   ]
  },
  {
   "cell_type": "markdown",
   "metadata": {},
   "source": [
    "If you're interested in more flexible ways to pass arguments to functions, check out the [Python tutorial](https://docs.python.org/2/tutorial/controlflow.html#more-on-defining-functions). For instance, you can also use keyword arguments, which are collected into a dictionary just like `*` gathers variable numbers of positional arguments into a tuple.\n",
    "\n",
    "This pattern is very common for defining functions with complex optional behaviors in Python, and you will often see definitions like:\n",
    "\n",
    "```\n",
    "def my_func(required_argument1, *arguments, **keywords):\n",
    "    ...\n",
    "```"
   ]
  },
  {
   "cell_type": "markdown",
   "metadata": {
    "is_question": true,
    "problem": "Exercise 12 sort"
   },
   "source": [
    "### Exercise\n",
    "\n",
    "Write a function `sort_by_last_letter` that takes a list of words and returns a new list with the words sorted alphabetically by the _last letter_ in the word. Hint: use the **Decorate, Sort, Undecorate** pattern. Write unit tests for your function."
   ]
  },
  {
   "cell_type": "code",
   "execution_count": 74,
   "metadata": {
    "collapsed": false,
    "solution": "Exercise 12 sort"
   },
   "outputs": [
    {
     "name": "stdout",
     "output_type": "stream",
     "text": [
      "['a', 'd', 'q', 'r']\n"
     ]
    }
   ],
   "source": [
    "#wow this took me WAY to long to do. Struggled for 2 hours... :(\n",
    "\n",
    "def sort_by_last_letter(words):\n",
    "    i=0\n",
    "    last_letters = []\n",
    "    #current_word = words[0]\n",
    "    #print current_word[len(current_word)-1]\n",
    "    #print words[0][len(current_word)-1]\n",
    "    \n",
    "    while i < len(words):\n",
    "        current_word = words[i]\n",
    "        #print current_word[-1]\n",
    "        last_letters.append(current_word[-1])\n",
    "        i+=1\n",
    "\n",
    "    zipped_words = zip(last_letters, words)\n",
    "    zipped_words.sort()\n",
    "    \n",
    "    res = []\n",
    "    for last_letters, words in zipped_words:\n",
    "        res.append(words)\n",
    "    print res\n",
    "    \n",
    "sort_by_last_letter(['dog', 'cat', 'bird', 'mouse'])\n",
    "#sort_by_last_letter(['d', 'q', 'r', 'a'])\n"
   ]
  },
  {
   "cell_type": "markdown",
   "metadata": {},
   "source": [
    "**Quick check** Give an example of when you might use each sequence type:\n",
    "\n",
    "- tuple\n",
    "\n",
    "- list\n",
    "\n",
    "- string"
   ]
  },
  {
   "cell_type": "markdown",
   "metadata": {},
   "source": [
    "tuple: transversing multiple lists at a time, keys in dictionaries\n",
    "list: storing multiple strings\n",
    "string: storing a sequence of letters"
   ]
  },
  {
   "cell_type": "markdown",
   "metadata": {
    "is_question": true,
    "problem": "Exercise 12.3"
   },
   "source": [
    "### Exercise 3  \n",
    "\n",
    "Write a function called `most_frequent` that takes a string and prints the letters in decreasing order of frequency. Find text samples from several different languages and see how letter frequency varies between languages. Compare your results with the tables at http://en.wikipedia.org/wiki/Letter_frequencies. \n",
    "\n",
    "Allen's solution (try it on your own first): http://thinkpython.com/code/most_frequent.py. "
   ]
  },
  {
   "cell_type": "code",
   "execution_count": 108,
   "metadata": {
    "collapsed": false,
    "solution": "Exercise 12.3"
   },
   "outputs": [
    {
     "name": "stdout",
     "output_type": "stream",
     "text": [
      "[(3, 'a'), (2, 'n'), (1, 'b')]\n"
     ]
    }
   ],
   "source": [
    "def most_frequent(s):\n",
    "    d = dict()\n",
    "    letters = []\n",
    "    i = 0\n",
    "    \n",
    "    while i < len(s):\n",
    "        letters.append(s[i])\n",
    "        i+=1\n",
    "    letters.sort()\n",
    "    \n",
    "    i=0 #reset index\n",
    "    while i <len(letters):\n",
    "        letter = letters[i]\n",
    "        if letters[i] not in d:\n",
    "            d[letter] = 1\n",
    "        else:\n",
    "            d[letter] +=1\n",
    "        i+=1\n",
    "\n",
    "    #print d\n",
    "    \n",
    "    new_d = zip(d.values(), d.keys())\n",
    "    \n",
    "    new_d.sort()\n",
    "    \n",
    "    print new_d[::-1]\n",
    "    \n",
    "    \n",
    "\n",
    "    \n",
    "most_frequent('banana')"
   ]
  },
  {
   "cell_type": "markdown",
   "metadata": {
    "is_question": true,
    "problem": "Exercise 12.6"
   },
   "source": [
    "### Challenge: Exercise 6   (optional)\n",
    "\n",
    "From a [Car Talk Puzzler](http://www.cartalk.com/content/puzzlers):\n",
    "\n",
    "What is the longest English word, that remains a valid English word, as you remove its letters one at a time?\n",
    "\n",
    "Now, letters can be removed from either end, or the middle, but you can’t rearrange any of the letters. Every time you drop a letter, you wind up with another English word. If you do that, you’re eventually going to wind up with one letter and that too is going to be an English word—one that’s found in the dictionary. I want to know what’s the longest word and how many letters does it have?\n",
    "\n",
    "I’m going to give you a little modest example: Sprite. Ok? You start off with sprite, you take a letter off, one from the interior of the word, take the r away, and we’re left with the word spite, then we take the e off the end, we’re left with spit, we take the s off, we’re left with pit, it, and I. \n",
    "\n",
    "Write a program to find all words that can be reduced in this way, and then find the longest one.\n",
    "\n",
    "This exercise is a little more challenging than most, so here are some suggestions:\n",
    "\n",
    "- You might want to write a function that takes a word and computes a list of all the words that can be formed by removing one letter. These are the “children” of the word.\n",
    "- Recursively, a word is reducible if any of its children are reducible. As a base case, you can consider the empty string reducible.\n",
    "- The word list from [Chapter 9.1](http://www.greenteapress.com/thinkpython/html/thinkpython010.html) Exercise 1 doesn’t contain single letter words. So you might want to add “I”, “a”, and the empty string.\n",
    "- To improve the performance of your program, you might want to memoize the words that are known to be reducible.\n",
    "\n",
    "Allen's solution: http://thinkpython.com/code/reducible.py."
   ]
  },
  {
   "cell_type": "code",
   "execution_count": null,
   "metadata": {
    "collapsed": true,
    "solution": "Exercise 12.6"
   },
   "outputs": [],
   "source": []
  },
  {
   "cell_type": "markdown",
   "metadata": {
    "is_question": true,
    "problem": "Feedback"
   },
   "source": [
    "## Reading Journal feedback\n",
    "\n",
    "Have any comments on this Reading Journal? Feel free to leave them below and we'll read them when you submit your journal entry. This could include suggestions to improve the exercises, topics you'd like to see covered in class next time, or other feedback.\n",
    "\n",
    "If you have Python questions or run into problems while completing the reading, you should post them to Piazza instead so you can get a quick response before your journal is submitted."
   ]
  },
  {
   "cell_type": "markdown",
   "metadata": {
    "feedback_response": true,
    "solution": "Feedback"
   },
   "source": [
    "I have miniproject 2, a MechSolids take-home exam, and Thermo problem set due Thurs, and a UOCD design review on Friday-- so i'm a bit pressed for time... sorry about the sloppy work. Wish i has more time to spend on this. "
   ]
  }
 ],
 "metadata": {
  "celltoolbar": "Edit Metadata",
  "kernelspec": {
   "display_name": "Python 2",
   "language": "python",
   "name": "python2"
  },
  "language_info": {
   "codemirror_mode": {
    "name": "ipython",
    "version": 2
   },
   "file_extension": ".py",
   "mimetype": "text/x-python",
   "name": "python",
   "nbconvert_exporter": "python",
   "pygments_lexer": "ipython2",
   "version": "2.7.6"
  }
 },
 "nbformat": 4,
 "nbformat_minor": 0
}
