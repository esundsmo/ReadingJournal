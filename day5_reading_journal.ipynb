{
 "cells": [
  {
   "cell_type": "markdown",
   "metadata": {},
   "source": [
    "# Day 5 Reading Journal\n",
    "\n",
    "This journal includes several required exercises, but it is meant to encourage active reading more generally.  You should use the journal to take detailed notes, catalog questions, and explore the content from Think Python deeply.\n",
    "\n",
    "Reading: Think Python Chapter 4\n",
    "\n",
    "**Due: Monday, February 8 at 12 noon**\n",
    "\n"
   ]
  },
  {
   "cell_type": "code",
   "execution_count": 5,
   "metadata": {
    "collapsed": false
   },
   "outputs": [],
   "source": [
    "#Some notes from class review 2/4/16\n",
    "\n",
    "\n",
    "#reverse the order of a list: L[::-1]\n",
    "\n",
    "#in the following a copy of the original list is made\n",
    "def middle(s):\n",
    "    return s[1:len(s)-1]\n",
    "\n",
    "# touple is like a list except it is immutable\n",
    "# copy list A by saying: B = A[:], also copy.copy\n",
    "\n",
    "# pop returns the value it deletes, del just deletes the indicated value\n",
    "\n",
    "#Anagram code from Day4 reading actually misses repeated letters. Whoops.\n",
    "\n",
    "# map() is a thing. \n",
    "\n",
    "#adds n to each element in the list xs\n",
    "def add_n(xs, n):\n",
    "    return [x + n for x in xs]\n",
    "\n",
    "#aliasing? tuples? \n",
    "a, b = [3,4]\n",
    "\n",
    "#enumerate keyword that creates a 0-n index for a list and stores it as a pair\n"
   ]
  },
  {
   "cell_type": "markdown",
   "metadata": {},
   "source": [
    "## [Chapter 4](http://www.greenteapress.com/thinkpython/html/thinkpython005.html)\n",
    "\n",
    "In today's reading, you'll be exploring TurtleWorld!\n",
    "TurtleWorld is part of the [swampy](http://www.greenteapress.com/thinkpython/swampy/) package, written by Allen Downey.\n",
    "As part of the [Get Set](https://sites.google.com/site/sd16spring/home/assignments-and-mini-projects/setup-your-environment) assignment, you installed the swampy package using the pip Python package management tool. If you somehow missed that step or you see errors when you try to import TurtleWorld, you can install swampy by running:\n",
    "\n",
    "```\n",
    "sudo pip install swampy\n",
    "```\n",
    "\n",
    "at the command line.\n",
    "\n",
    "### Turtle wrangling\n",
    "\n",
    "You can always run your code as separate Python scripts, but here are a few tips for mixing TurtleWorld with Jupyter notebook:\n",
    "\n",
    " - TurtleWorld will appear in a new GUI window, rather than inline in the notebook like typical results do\n",
    " - You will not be able to close the TurtleWorld window unless you run `wait_for_user()` as the last line of your code.\n",
    " - Jupyter notebook works like one big Python script, even though it is broken up into sections. This means that you could create a Turtle in one cell, move it in a later cell, and then `wait_for_user()` in yet another. Despite this, it might be easier to treat each cell in this assignment as a separate script, creating a new world at the beginning and destroying it at the end of each."
   ]
  },
  {
   "cell_type": "markdown",
   "metadata": {},
   "source": [
    "### Get started\n",
    "\n",
    "Run the code in the cell below and make sure everything works. You should see brave Alice spring into the world and run forward. You can close the window when you're done by clicking on the 'X'. If this simple test doesn't work, check your swampy install (especially if you get an `ImportError`) and ask for help."
   ]
  },
  {
   "cell_type": "code",
   "execution_count": 6,
   "metadata": {
    "collapsed": true
   },
   "outputs": [],
   "source": [
    "from swampy.TurtleWorld import *\n",
    "\n",
    "# Create the world, and a turtle to put in it\n",
    "world = TurtleWorld()\n",
    "alice = Turtle()\n",
    "\n",
    "# Get moving, turtle!\n",
    "fd(alice, 50)\n",
    "\n",
    "# Wait for the user to close the window\n",
    "wait_for_user()"
   ]
  },
  {
   "cell_type": "markdown",
   "metadata": {
    "is_question": true,
    "problem": "Section 4.3"
   },
   "source": [
    "### Section 4.3 exercises\n",
    "Work through exercises 1-5 in Section 4.3, creating the `square`, `polygon`, `circle`, and `arc` functions. You can reference Allen's solutions, but please try the problems on your own first."
   ]
  },
  {
   "cell_type": "code",
   "execution_count": 42,
   "metadata": {
    "collapsed": false,
    "solution": "Section 4.3"
   },
   "outputs": [
    {
     "name": "stdout",
     "output_type": "stream",
     "text": [
      "<swampy.TurtleWorld.Turtle object at 0x7f5f7dd0f350>\n"
     ]
    },
    {
     "name": "stderr",
     "output_type": "stream",
     "text": [
      "<ipython-input-42-16d561b98c5a>:6: SyntaxWarning: import * only allowed at module level\n",
      "  def square(t, length):\n",
      "<ipython-input-42-16d561b98c5a>:19: SyntaxWarning: import * only allowed at module level\n",
      "  def polygon(t, length, n):\n",
      "<ipython-input-42-16d561b98c5a>:33: SyntaxWarning: import * only allowed at module level\n",
      "  def circle(t, r, n):\n",
      "<ipython-input-42-16d561b98c5a>:42: SyntaxWarning: import * only allowed at module level\n",
      "  def arc(t, r, n, d):\n"
     ]
    }
   ],
   "source": [
    "\"\"\"\n",
    "1. Make a square   2. additional parameter (length) added to square \n",
    "3. Make a polygon  4. Make a circle   5. Arc (generalized circle)\n",
    "\n",
    "*Wrote all when exercises given, did not modify after scrolling on.\n",
    "\"\"\"\n",
    "\n",
    "def square(t, length):\n",
    "    \"\"\"\n",
    "    Modified the original square (1) to take sidelength (length) \n",
    "    as an input (2), in addition to turtle name (t)\n",
    "    \"\"\"\n",
    "    \n",
    "    from swampy.TurtleWorld import *\n",
    "    \n",
    "    world = TurtleWorld()\n",
    "    t = Turtle()\n",
    "    t.delay = 0.01\n",
    "    print t\n",
    "\n",
    "    for i in range(4):\n",
    "        fd(t, length)\n",
    "        lt(t)\n",
    "  \n",
    "    wait_for_user()\n",
    "    \n",
    "def polygon(t, length, n):\n",
    "    \"\"\"(t) turtle name, (length) sidelength, (n) number of sides\"\"\"\n",
    "    from swampy.TurtleWorld import *\n",
    "    \n",
    "    world = TurtleWorld()\n",
    "    t = Turtle()\n",
    "    t.delay = 0.01\n",
    "    print t\n",
    "\n",
    "    for i in range(n):\n",
    "        fd(t, length)\n",
    "        lt(t, 360/n)\n",
    "  \n",
    "    wait_for_user()\n",
    "    \n",
    "def circle(t, r, n):\n",
    "    from swampy.TurtleWorld import *\n",
    "    from math import pi\n",
    "    \n",
    "    C = 2*r*pi  \n",
    "    polygon(t, C/n, n)\n",
    "  \n",
    "    wait_for_user()\n",
    "    \n",
    "def arc(t, r, n, d):\n",
    "    \"\"\"\n",
    "    Generalized from circle. d is the maximum degrees traveled.\n",
    "    Not sure how to do this by only referencing polygon() since d \n",
    "    needs to be a limit.\n",
    "    Inputs: Name, radius, n_sides, degree_limit\n",
    "    \"\"\"\n",
    "    from swampy.TurtleWorld import *\n",
    "    from math import pi\n",
    "    \n",
    "    world = TurtleWorld()\n",
    "    t = Turtle()\n",
    "    t.delay = 0.01\n",
    "    print t\n",
    "    \n",
    "    count = 0\n",
    "    C = 2*r*pi\n",
    "    length = C/n\n",
    "    \n",
    "    for i in range(n):\n",
    "        if count <= d :\n",
    "            fd(t, length)\n",
    "            lt(t, 360/n)\n",
    "            count += 360/n \n",
    "  \n",
    "    wait_for_user()\n",
    "    \n",
    "#square(bob, 50)\n",
    "#polygon(bob, 60, 5)\n",
    "#circle(bob, 10, 360)\n",
    "arc(bob, 100, 360, 90)"
   ]
  },
  {
   "cell_type": "markdown",
   "metadata": {
    "is_question": true,
    "problem": "More fun"
   },
   "source": [
    "### Exercise: More fun with Turtles!\n",
    "Complete at least one of Exercise 2, 3, 4, or 5. If you come up with some cool drawings you'd like to share with the rest of the class, let us know!"
   ]
  },
  {
   "cell_type": "code",
   "execution_count": 109,
   "metadata": {
    "collapsed": false,
    "solution": "More fun"
   },
   "outputs": [
    {
     "name": "stderr",
     "output_type": "stream",
     "text": [
      "<ipython-input-109-de30298fd3ae>:1: SyntaxWarning: import * only allowed at module level\n",
      "  def turtle_triangles(t, n, length):\n",
      "<ipython-input-109-de30298fd3ae>:38: SyntaxWarning: import * only allowed at module level\n",
      "  def archemedean_turtle(name,a, b, c, n):\n"
     ]
    },
    {
     "name": "stdout",
     "output_type": "stream",
     "text": [
      "<swampy.TurtleWorld.Turtle object at 0x7f5f7dceecd0>\n"
     ]
    }
   ],
   "source": [
    "def turtle_triangles(t, n, length):\n",
    "    \n",
    "    \"\"\"t- turtle name; n- number of triangles, length- from center to outer corner\n",
    "    Draws an n-sided polygon with n internal triangles.\n",
    "    \n",
    "    The length of the inner lines still overshoot a bit.. tolerance issue?\n",
    "    \"\"\"\n",
    "    \n",
    "    from swampy.TurtleWorld import *\n",
    "    from math import cos, sin, pi\n",
    "    world = TurtleWorld()\n",
    "    t = Turtle()\n",
    "    t.delay = 0.01\n",
    "    print t\n",
    "    \n",
    "    \n",
    "    for i in range(n+1):\n",
    "        #draw a triangle\n",
    "        center_angle = 360.0/n\n",
    "        corner_angle = (180.0-center_angle)/2.0\n",
    "        outer_angle = 180.0-corner_angle\n",
    "        \n",
    "        outer_edge_length = (length*sin((center_angle/2.0)*((2.0*pi)/180.0))) #convert to radians for trig...\n",
    "    \n",
    "        fd(t, length)\n",
    "        rt(t, outer_angle)\n",
    "        fd(t, outer_edge_length)\n",
    "        rt(t, outer_angle)\n",
    "        fd(t, length)\n",
    "        rt(t, 180.0) #about face!\n",
    "    \n",
    "    wait_for_user()\n",
    "    \n",
    "turtle_triangles(t=bob, n = 7, length = 10.0)\n",
    "\n",
    "\n",
    "\n",
    "def archemedean_turtle(name,a, b, c, n):\n",
    "    \"\"\"Currently does not work.\n",
    "    \n",
    "       Archemidean Spiral: http://mathworld.wolfram.com/ArchimedeanSpiral.html\n",
    "       a - turns the spiral; b - distance between successive turns\n",
    "       t - polar angle; c - constant determining spiral tightness\n",
    "       n - number of steps taken to turn 360 degrees\n",
    "       r - radial distance, determined by inputs\n",
    "    \"\"\"\n",
    "    from swampy.TurtleWorld import *\n",
    "    from math import pi\n",
    "    \n",
    "    world = TurtleWorld()\n",
    "    t = Turtle()\n",
    "    t.delay = 0.01\n",
    "    print t\n",
    "    \n",
    "    count = 0\n",
    "    theta=360/n\n",
    "    r = a + b*(theta**(1/n))\n",
    "    \n",
    "    C = 2*r*pi\n",
    "    length = C/n\n",
    "    \n",
    "    for i in range(n):\n",
    "        fd(t, length)\n",
    "        lt(t, 360/n)\n",
    "        count += 360/n \n",
    "  \n",
    "    wait_for_user()\n",
    "    \n",
    "#archemedean_turtle(name=bob, a=100, b=50, c=2, n=90)\n"
   ]
  },
  {
   "cell_type": "markdown",
   "metadata": {},
   "source": [
    "## Reading Journal feedback\n",
    "\n",
    "Have any comments on this Reading Journal? Feel free to leave them below and we'll read them when you submit your journal entry. This could include suggestions to improve the exercises, topics you'd like to see covered in class next time, or other feedback.\n",
    "\n",
    "If you have Python questions or run into problems while completing the reading, you should post them to Piazza instead so you can get a quick response before your journal is submitted."
   ]
  },
  {
   "cell_type": "markdown",
   "metadata": {},
   "source": [
    " "
   ]
  }
 ],
 "metadata": {
  "kernelspec": {
   "display_name": "Python 2",
   "language": "python",
   "name": "python2"
  },
  "language_info": {
   "codemirror_mode": {
    "name": "ipython",
    "version": 2
   },
   "file_extension": ".py",
   "mimetype": "text/x-python",
   "name": "python",
   "nbconvert_exporter": "python",
   "pygments_lexer": "ipython2",
   "version": "2.7.6"
  }
 },
 "nbformat": 4,
 "nbformat_minor": 0
}
