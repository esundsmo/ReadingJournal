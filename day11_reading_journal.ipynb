{
 "cells": [
  {
   "cell_type": "markdown",
   "metadata": {},
   "source": [
    "# Day 11 Reading Journal\n",
    "\n",
    "This journal includes several required exercises, but it is meant to encourage active reading more generally.  You should use the journal to take detailed notes, catalog questions, and explore the content from Think Python deeply.\n",
    "\n",
    "Reading: Review Think Python Chapters 15-17\n",
    "\n",
    "**Due: Monday, February 29 at 12 noon**\n",
    "\n"
   ]
  },
  {
   "cell_type": "markdown",
   "metadata": {},
   "source": [
    "## [Chapter 15](http://www.greenteapress.com/thinkpython/html/thinkpython016.html), [Chapter 16](http://www.greenteapress.com/thinkpython/html/thinkpython017.html), [Chapter 17](http://www.greenteapress.com/thinkpython/html/thinkpython018.html)\n",
    "\n",
    "\n",
    "By the end of chapter 17, we have all the tools we need to create our own user-defined types known as classes. In this reading journal, we're asking you to review and solidify your understanding of this material so we can build on it for the rest of the course. \n",
    "\n",
    "If you didn't get a chance to fully complete the Day 10 reading journal, you may want to do so now."
   ]
  },
  {
   "cell_type": "markdown",
   "metadata": {
    "problem": "Terminology"
   },
   "source": [
    "### Terminology\n",
    "\n",
    "You should be familiar with the following list of terms and concepts. If any of them are unclear to you, re-read, ask, write a definition in your own words, and try an example if appropriate.\n",
    "\n",
    " - class\n",
    " - object\n",
    " - instance\n",
    " - attribute\n",
    " - method\n",
    " - shallow vs deep copying\n",
    " - pure functions vs modifiers\n",
    " - initializing object instances\n",
    " "
   ]
  },
  {
   "cell_type": "markdown",
   "metadata": {
    "is_question": true,
    "problem": "Exercise 1"
   },
   "source": [
    "### Exercise\n",
    "\n",
    "We're going to take the first steps toward writing a calendar application. To keep things simple, we'll restrict ourselves to a single day for now. Write an `Event` class with the following attributes:\n",
    "\n",
    " - `name`  : Title for the `Event`\n",
    " - `start` : `Time` object representing the start time for the `Event`\n",
    " - `end`   : `Time` object representing the end time for the `Event`\n",
    "\n",
    "You can also augment your `Event` class with additional attributes, such as location and attendees.\n",
    "\n",
    "Write `__init__` and `__str__` methods for your `Event` class."
   ]
  },
  {
   "cell_type": "code",
   "execution_count": 3,
   "metadata": {
    "collapsed": false,
    "solution": "Exercise 1"
   },
   "outputs": [
    {
     "name": "stdout",
     "output_type": "stream",
     "text": [
      "SoftDes begins at 01:30:00 and ends at 05:00:00\n"
     ]
    }
   ],
   "source": [
    "class Time(object):\n",
    "    \"\"\"\n",
    "    Represents the time of day.   \n",
    "    Attributes: hour, minute, second\n",
    "    \"\"\"\n",
    "    \n",
    "    def __init__(self, hour=5, minute=0, second=0):\n",
    "        self.hour = hour\n",
    "        self.minute = minute\n",
    "        self.second = second\n",
    "\n",
    "    def __str__(self): \n",
    "        return \"{:02}:{:02}:{:02}\".format(self.hour,self.minute, self.second)\n",
    "\n",
    "\n",
    "class Event(object):\n",
    "    def __init__(self, name = None, start = Time(0,0,0), end = Time(23,59,59)):\n",
    "        self.name = name\n",
    "        self.start = start\n",
    "        self.end = end\n",
    "    def __str__(self):\n",
    "        return \"{} begins at {} and ends at {}\".format(self.name, self.start, self.end)\n",
    "\n",
    "\n",
    "t1 = Time(1,30,0)\n",
    "t2 = Time(5,0,0)\n",
    "hw = Event('SoftDes', t1, t2)\n",
    "                 \n",
    "print hw"
   ]
  },
  {
   "cell_type": "markdown",
   "metadata": {
    "is_question": true,
    "problem": "Exercise 2"
   },
   "source": [
    "### Exercise\n",
    "\n",
    "Write a `duration` method that returns the duration of the `Event` in minutes."
   ]
  },
  {
   "cell_type": "code",
   "execution_count": 13,
   "metadata": {
    "collapsed": false,
    "solution": "Exercise 2"
   },
   "outputs": [
    {
     "name": "stdout",
     "output_type": "stream",
     "text": [
      "SoftDes duration is 180.0 minutes.\n",
      "MechSolids duration is 210.0 minutes.\n"
     ]
    }
   ],
   "source": [
    "class Time(object):\n",
    "    \"\"\"\n",
    "    Represents the time of day.   \n",
    "    Attributes: hour, minute, second\n",
    "    \"\"\"\n",
    "    \n",
    "    def __init__(self, hour=5, minute=0, second=0):\n",
    "        self.hour = hour\n",
    "        self.minute = minute\n",
    "        self.second = second\n",
    "\n",
    "    def __str__(self): \n",
    "        return \"{:02}:{:02}:{:02}\".format(self.hour,self.minute, self.second)\n",
    "\n",
    "\n",
    "class Event(object):\n",
    "    def __init__(self, name = None, start = Time(0,0,0), end = Time(23,59,59)):\n",
    "        self.name = name\n",
    "        self.start = start\n",
    "        self.end = end\n",
    "    def __str__(self):\n",
    "        return \"{} begins at {} and ends at {}\".format(self.name, self.start, self.end)\n",
    "\n",
    "    def duration(self):\n",
    "        #yeah this could have been shorter, but my brain is tired and\n",
    "        #the logic here is spelled out pretty clearly!\n",
    "        \n",
    "        sec_start = self.start.second\n",
    "        min_start = self.start.minute\n",
    "        hour_start = self.start.hour\n",
    "    \n",
    "        sec_end = self.end.second\n",
    "        min_end = self.end.minute\n",
    "        hour_end = self.end.hour\n",
    "    \n",
    "        hours = hour_end - hour_start\n",
    "        hours_to_min = hours*60.0\n",
    "    \n",
    "        seconds = sec_end-sec_start\n",
    "        seconds_to_min = seconds/60.0\n",
    "    \n",
    "        minutes = (min_end - min_start) + seconds_to_min + hours_to_min\n",
    "    \n",
    "        return minutes\n",
    "\n",
    "\n",
    "t1a = Time(2,0,0)\n",
    "t2a = Time(5,0,0)\n",
    "hwa = Event('SoftDes', t1a, t2a)\n",
    "\n",
    "t1b = Time(7,30,0)\n",
    "t2b = Time(11,0,0)\n",
    "hwb = Event('MechSolids', t1b, t2b)\n",
    "\n",
    "print hwa.name, \"duration is\" ,hwa.duration(), \"minutes.\"\n",
    "print hwb.name, \"duration is\" ,hwb.duration(), \"minutes.\""
   ]
  },
  {
   "cell_type": "markdown",
   "metadata": {
    "is_question": true,
    "problem": "Exercise 3"
   },
   "source": [
    "### Exercise\n",
    "\n",
    "Write an `Agenda` class that contains several `Event`s for the day.\n",
    "\n",
    "**Quick check: ** How should you store `Event`s within your `Agenda` class?\n",
    "\n",
    "Your `Agenda` class should include a `print_agenda` method that prints out your schedule for the day, in order.\n",
    "\n",
    "**Optional:** Include a `is_feasible` method that returns `True` if your schedule has no time conflicts. You may want to write additional helper methods for the `Event` class to make this easier."
   ]
  },
  {
   "cell_type": "code",
   "execution_count": 29,
   "metadata": {
    "collapsed": false,
    "solution": "Exercise 3"
   },
   "outputs": [
    {
     "data": {
      "text/plain": [
       "<bound method Agenda.print_agenda of <__main__.Agenda object at 0x7fee201d2990>>"
      ]
     },
     "execution_count": 29,
     "metadata": {},
     "output_type": "execute_result"
    }
   ],
   "source": [
    "from operator import itemgetter, attrgetter\n",
    "\n",
    "class Time(object):\n",
    "    \"\"\"\n",
    "    Represents the time of day.   \n",
    "    Attributes: hour, minute, second\n",
    "    \"\"\"\n",
    "    \n",
    "    def __init__(self, hour=5, minute=0, second=0):\n",
    "        self.hour = hour\n",
    "        self.minute = minute\n",
    "        self.second = second\n",
    "\n",
    "    def __str__(self): \n",
    "        return \"{:02}:{:02}:{:02}\".format(self.hour,self.minute, self.second)\n",
    "\n",
    "\n",
    "class Event(object):\n",
    "    def __init__(self, name = None, start = Time(0,0,0), end = Time(23,59,59)):\n",
    "        self.name = name\n",
    "        self.start = start\n",
    "        self.end = end\n",
    "    def __str__(self):\n",
    "        return \"{} begins at {} and ends at {}\".format(self.name, self.start, self.end)\n",
    "\n",
    "    def duration(self):\n",
    "        #yeah this could have been shorter, but my brain is tired and\n",
    "        #the logic here is spelled out pretty clearly!\n",
    "        \n",
    "        sec_start = self.start.second\n",
    "        min_start = self.start.minute\n",
    "        hour_start = self.start.hour\n",
    "    \n",
    "        sec_end = self.end.second\n",
    "        min_end = self.end.minute\n",
    "        hour_end = self.end.hour\n",
    "    \n",
    "        hours = hour_end - hour_start\n",
    "        hours_to_min = hours*60.0\n",
    "    \n",
    "        seconds = sec_end-sec_start\n",
    "        seconds_to_min = seconds/60.0\n",
    "    \n",
    "        minutes = (min_end - min_start) + seconds_to_min + hours_to_min\n",
    "    \n",
    "        return minutes\n",
    "\n",
    "class Agenda(object):\n",
    "    def __init__(self, events = None):\n",
    "        if events == None:\n",
    "            events = []\n",
    "        self.events = events\n",
    "        \n",
    "    def __str__(self):\n",
    "        return str(self.events)\n",
    "    \n",
    "    def add_to_agenda(self, event):\n",
    "        self.events.append(event)\n",
    "        \n",
    "    def print_agenda(self):\n",
    "        ordered_agenda = []\n",
    "        ordered_agenda = sorted(self, key=attrgetter(self.event.start.hour, self.event.start.minute,self.event.start.second))\n",
    "        \n",
    "        print len(ordered_agenda)\n",
    "        \n",
    "        i=0 #attempt to bypass location return in favor of actual names....\n",
    "        while i < len(ordered_agenda):\n",
    "            print \"Event: {} Start time: {} End time: {}\".format(ordered_agenda[i].event.name, ordered_agenda[i].event.start, ordered_agenda[i].event.end)\n",
    "            i+=1\n",
    "        \n",
    "t1a = Time(2,0,0)\n",
    "t2a = Time(5,0,0)\n",
    "hwa = Event('SoftDes', t1a, t2a)\n",
    "\n",
    "t1b = Time(7,30,0)\n",
    "t2b = Time(11,0,0)\n",
    "hwb = Event('MechSolids', t1b, t2b)\n",
    "\n",
    "HW_plan = Agenda()\n",
    "HW_plan.add_to_agenda(hwa)\n",
    "HW_plan.add_to_agenda(hwb)\n",
    "\n",
    "HW_plan.print_agenda"
   ]
  },
  {
   "cell_type": "markdown",
   "metadata": {
    "is_question": true,
    "problem": "Exercise 4"
   },
   "source": [
    "### Going Beyond (optional)\n",
    "\n",
    "Some ideas for taking your application further:\n",
    " - Add people and/or places to the mix to create a scheduling assistant\n",
    " - Extend support for day-of-week or full date. A word of warning: dealing with dates and times in real applications is difficult due to the huge number of special cases (Perfect example: this reading journal is due on Leap Day). Consider using something like the Python [datetime](https://docs.python.org/2/library/datetime.html) module.\n",
    " - Use pickle or some other persistence strategy to save and load your `Agenda`."
   ]
  },
  {
   "cell_type": "code",
   "execution_count": null,
   "metadata": {
    "collapsed": true,
    "solution": "Exercise 4"
   },
   "outputs": [],
   "source": []
  },
  {
   "cell_type": "markdown",
   "metadata": {
    "is_poll": true,
    "is_question": true,
    "problem": "Time spent"
   },
   "source": [
    "## Quick poll\n",
    "About how long did you spend working on this Reading Journal?"
   ]
  },
  {
   "cell_type": "markdown",
   "metadata": {
    "poll_response": true,
    "solution": "Time spent"
   },
   "source": [
    "Judging by commit times... 1 hour..."
   ]
  },
  {
   "cell_type": "markdown",
   "metadata": {
    "is_question": true,
    "problem": "Feedback"
   },
   "source": [
    "## Reading Journal feedback\n",
    "\n",
    "Have any comments on this Reading Journal? Feel free to leave them below and we'll read them when you submit your journal entry. This could include suggestions to improve the exercises, topics you'd like to see covered in class next time, or other feedback.\n",
    "\n",
    "If you have Python questions or run into problems while completing the reading, you should post them to Piazza instead so you can get a quick response before your journal is submitted."
   ]
  },
  {
   "cell_type": "markdown",
   "metadata": {
    "feedback_response": true,
    "solution": "Feedback"
   },
   "source": [
    "Why do some functions look like __function__ rather than function? \n",
    "\n",
    "Also still confused about why everything returns a location-- i'll ask about it tomorrow."
   ]
  }
 ],
 "metadata": {
  "celltoolbar": "Edit Metadata",
  "kernelspec": {
   "display_name": "Python 2",
   "language": "python",
   "name": "python2"
  },
  "language_info": {
   "codemirror_mode": {
    "name": "ipython",
    "version": 2
   },
   "file_extension": ".py",
   "mimetype": "text/x-python",
   "name": "python",
   "nbconvert_exporter": "python",
   "pygments_lexer": "ipython2",
   "version": "2.7.6"
  }
 },
 "nbformat": 4,
 "nbformat_minor": 0
}
