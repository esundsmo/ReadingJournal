{
 "cells": [
  {
   "cell_type": "markdown",
   "metadata": {},
   "source": [
    "# Day 3 Reading Journal\n",
    "\n",
    "This journal includes several required exercises, but it is meant to encourage active reading more generally.  You should use the journal to take detailed notes, catalog questions, and explore the content from Think Python deeply.\n",
    "\n",
    "Reading: Think Python Chapter 8, 10.1-10.6\n",
    "\n",
    "**Due: Monday, February 1 at 12 noon**\n",
    "\n"
   ]
  },
  {
   "cell_type": "markdown",
   "metadata": {},
   "source": [
    "**Day2 Journal Reflection in Class**\n",
    " \n",
    "print != return\n",
    "   \n",
    "\"False\" != False  (string vs booleen conditional)\n",
    "\n",
    "Formatting a table is built in in python! uses format() and {}s\n",
    "\n",
    "Can use triple \" to make a red comment (useful when describing functions)\n",
    "\n"
   ]
  },
  {
   "cell_type": "code",
   "execution_count": 2,
   "metadata": {
    "collapsed": false
   },
   "outputs": [],
   "source": [
    "def ranfun1(x):\n",
    "    \n",
    "    # an error check:\n",
    "    if (error):\n",
    "        return -1\n",
    "    #rest of program\n",
    "   \n",
    "    \"\"\"\"\"\"\n",
    "    \n",
    "    #a booleen return check-\n",
    "    return x<=y and y<=z"
   ]
  },
  {
   "cell_type": "markdown",
   "metadata": {},
   "source": [
    "## [Chapter 8](http://www.greenteapress.com/thinkpython/html/thinkpython009.html)\n",
    "\n",
    "Note: the exercise numbers below match up with the reading for ease of cross referencing."
   ]
  },
  {
   "cell_type": "markdown",
   "metadata": {},
   "source": [
    "**Chapter 8: Strings**\n",
    "\n",
    "String: a sequence of characters that can be individually accessed using brackets []\n",
    "\n",
    "Index: the expression inside [], must result in an int. Note that Python index starts at 0. You can index from the end of a string using negative ints.\n",
    "\n",
    "len() : built in function that returns the number of characters in a string\n",
    "\n",
    "\n",
    "Traversal: processing patter that looks at one string character at a time. Can be written with a while loop.\n",
    "\n",
    "Slice: a segment of a string. uses [n:m] to return nth- through mth character. If you omit a value from either side it will start at the begining or go till the end. If values are equal an empty string is returned.\n",
    "\n",
    "Note: strings are immutable-- can't change an existing string. (can make new modified strings using old strings though!)\n",
    "\n",
    "Search: traverse a sequence and return a match, or -1 if none. Opposite of []. See code box below for find()\n",
    "\n",
    "Counter: an int initialized to 0 and incremented each time an event occurs\n",
    "\n",
    "Method: argument inputs and value output, different syntax than functions. Also called an invocaction \n",
    "\n",
    "The in operator: type booleen, iput 2 strings, returns true if first string is found in second.\n",
    "\n",
    "Note: in python letters starting with capital come before lower case!"
   ]
  },
  {
   "cell_type": "code",
   "execution_count": null,
   "metadata": {
    "collapsed": true
   },
   "outputs": [],
   "source": [
    "def find (word, letter, start): #added 3rd input start to replace 0 index\n",
    "    index = start               #user can now control where search starts\n",
    "    while index <len(word):\n",
    "        if word[index] == letter:\n",
    "            return index\n",
    "        index = index +1\n",
    "    return = -1\n",
    "\n",
    "\"Note that there is a method that performs this operation\"\n",
    "\"For a string s, and a letter or string a: s.find('a', start, stop)\"\n",
    "\"start and stop are optional int input parameters for the search\"\n",
    "\"Note that index does not include stop, will return -1 if failed\"\n",
    "\n",
    "\n",
    "\n",
    "def ex_count()\n",
    "word = 'armageddon'\n",
    "count = 0\n",
    "for letter in word:  #apparently variables can be initiallized in conditionals\n",
    "    if letter == 'a':  #shouldn't be that strange, do that with i counter a lot\n",
    "        count = count +1\n",
    "print count"
   ]
  },
  {
   "cell_type": "markdown",
   "metadata": {},
   "source": [
    "### Exercise 1  \n",
    "\n",
    "Write a function that takes a string as an argument and displays the letters backward, one per line."
   ]
  },
  {
   "cell_type": "code",
   "execution_count": 8,
   "metadata": {
    "collapsed": false
   },
   "outputs": [
    {
     "name": "stdout",
     "output_type": "stream",
     "text": [
      "l\n",
      "i\n",
      "c\n",
      "n\n",
      "e\n",
      "p\n"
     ]
    }
   ],
   "source": [
    "def reverse_col_string(s):\n",
    "    a = -1 # to start from end of string\n",
    "    while a >= -len(s): #when indexing backwards the largest -magnitude = length of string\n",
    "        letter = s[a]  #sets letter equal to contents of index a\n",
    "        print letter\n",
    "        a= a - 1    #decrements a\n",
    "        \n",
    "reverse_col_string('pencil')"
   ]
  },
  {
   "cell_type": "markdown",
   "metadata": {},
   "source": [
    "**Challenge (optional):** Write a function that translates words into [Pig Latin](https://en.wikipedia.org/wiki/Pig_Latin). \n",
    "\n",
    "**Additional challenge**: Write a function that translates back into English."
   ]
  },
  {
   "cell_type": "code",
   "execution_count": null,
   "metadata": {
    "collapsed": true
   },
   "outputs": [],
   "source": [
    "def pig_latin(word):\n",
    "    \"\"\"\n",
    "    Return given 'word' translated into Pig Latin\n",
    "    \n",
    "    >>> pig_latin(\"software\")\n",
    "    'oftwaresay'\n",
    "    \"\"\"\n",
    "    pass #TODO: Implement me\n",
    "\n",
    "# If you'd like to actually run the doctests here, you can uncomment the lines below.\n",
    "# We use this slightly more complex method to test only the pig_latin function, without running tests on any other functions that may be in this notebook.\n",
    "#import doctest\n",
    "#doctest.run_docstring_examples(pig_latin, globals())"
   ]
  },
  {
   "cell_type": "markdown",
   "metadata": {},
   "source": [
    "### Exercise 5\n",
    "Encapsulate the character counting code in a fruitful function named `count` that accepts the string and the letter as arguments and returns the count."
   ]
  },
  {
   "cell_type": "code",
   "execution_count": 77,
   "metadata": {
    "collapsed": false
   },
   "outputs": [
    {
     "data": {
      "text/plain": [
       "44"
      ]
     },
     "execution_count": 77,
     "metadata": {},
     "output_type": "execute_result"
    }
   ],
   "source": [
    "def count(word):\n",
    "    return len(word)\n",
    "\n",
    "#count('a') # 1\n",
    "#count('racecar') # 7\n",
    "count('the quick brown fox jumped over the lazy dog') # 44 \n"
   ]
  },
  {
   "cell_type": "markdown",
   "metadata": {},
   "source": [
    "### Exercise 8\n",
    "Skim the documentation of the Python [string methods](http://docs.python.org/2/library/stdtypes.html#string-methods). Experiment with some of them to make sure you understand how they work. strip, replace, and upper/lower are particularly useful."
   ]
  },
  {
   "cell_type": "code",
   "execution_count": 33,
   "metadata": {
    "collapsed": false,
    "scrolled": true
   },
   "outputs": [
    {
     "name": "stdout",
     "output_type": "stream",
     "text": [
      "Rawr\n",
      "                                 raWr                                 \n",
      "RAWR\n",
      "rawr\n",
      "roar\n",
      "Wr\n"
     ]
    }
   ],
   "source": [
    "def loud(word):\n",
    "    print str.upper(word)\n",
    "        \n",
    "def quiet(word):\n",
    "    print str.lower(word)\n",
    "    \n",
    "def replace(word, old, new):\n",
    "    print str.replace(word, old, new)\n",
    "    #if give 4 arg count, only the first count occurances are changed\n",
    "    \n",
    "def strip(word,cut):\n",
    "    print word.lstrip(cut)\n",
    "    \n",
    "def caps(word):\n",
    "    print str.capitalize(word)  # name--> Name\n",
    "    \n",
    "def cen(word):\n",
    "    print str.center(word, 70)\n",
    "  \n",
    "\n",
    "        \n",
    "word = 'raWr'  \n",
    "\n",
    "caps(word)\n",
    "cen(word)\n",
    "loud(word)\n",
    "quiet(word)\n",
    "replace(word, 'aW', 'oa')\n",
    "strip(word,'ra') #if raW given, cuts all because sequence pattern\n",
    "\n"
   ]
  },
  {
   "cell_type": "code",
   "execution_count": 101,
   "metadata": {
    "collapsed": false
   },
   "outputs": [],
   "source": [
    "#  Some other interesting string notation\"\"\n",
    "\n",
    "#  \\a - bell or alert\n",
    "#  \\b - backspace\n",
    "#  \\cx - control-x\n",
    "#  \\e - escape\n",
    "#  \\n - newline\n",
    "#  \\r - carriage return\n",
    "#  \\s - space\n",
    "#  \\t - tab\n",
    "#  \\v - vertical tab"
   ]
  },
  {
   "cell_type": "markdown",
   "metadata": {},
   "source": [
    "### Exercise 11  \n",
    "\n",
    "The following functions are all intended to check whether a string contains any lowercase letters, but at least some of them are wrong. For each function, describe what the function actually does (assuming that the parameter is a string)."
   ]
  },
  {
   "cell_type": "code",
   "execution_count": 40,
   "metadata": {
    "collapsed": false
   },
   "outputs": [
    {
     "data": {
      "text/plain": [
       "False"
      ]
     },
     "execution_count": 40,
     "metadata": {},
     "output_type": "execute_result"
    }
   ],
   "source": [
    "def any_lowercase1(s):\n",
    "    for c in s:\n",
    "        if c.islower():\n",
    "            return True\n",
    "        else:\n",
    "            return False\n",
    "\n",
    "any_lowercase1('Yes')"
   ]
  },
  {
   "cell_type": "markdown",
   "metadata": {},
   "source": [
    "This looks at the first character in the string and ignores the rest because return."
   ]
  },
  {
   "cell_type": "code",
   "execution_count": 45,
   "metadata": {
    "collapsed": false
   },
   "outputs": [
    {
     "data": {
      "text/plain": [
       "'True'"
      ]
     },
     "execution_count": 45,
     "metadata": {},
     "output_type": "execute_result"
    }
   ],
   "source": [
    "def any_lowercase2(s):\n",
    "    for c in s:\n",
    "        if 'c'.islower():\n",
    "            return 'True'\n",
    "        else:\n",
    "            return 'False'\n",
    "\n",
    "any_lowercase2('Yes')"
   ]
  },
  {
   "cell_type": "markdown",
   "metadata": {},
   "source": [
    "Returns true for everything because it is asked if the string 'c' is lowercase. "
   ]
  },
  {
   "cell_type": "code",
   "execution_count": 62,
   "metadata": {
    "collapsed": false
   },
   "outputs": [
    {
     "data": {
      "text/plain": [
       "False"
      ]
     },
     "execution_count": 62,
     "metadata": {},
     "output_type": "execute_result"
    }
   ],
   "source": [
    "def any_lowercase3(s):\n",
    "    for c in s:\n",
    "        flag = c.islower()\n",
    "    return flag\n",
    "\n",
    "any_lowercase3('nO')"
   ]
  },
  {
   "cell_type": "markdown",
   "metadata": {},
   "source": [
    "T/F dependent on last character of the string ."
   ]
  },
  {
   "cell_type": "code",
   "execution_count": 78,
   "metadata": {
    "collapsed": false
   },
   "outputs": [
    {
     "data": {
      "text/plain": [
       "True"
      ]
     },
     "execution_count": 78,
     "metadata": {},
     "output_type": "execute_result"
    }
   ],
   "source": [
    "def any_lowercase4(s):\n",
    "    flag = False\n",
    "    for c in s:\n",
    "        flag = flag or c.islower()\n",
    "    return flag\n",
    "\n",
    "any_lowercase4('IS TRUE lower OR NOT?')"
   ]
  },
  {
   "cell_type": "markdown",
   "metadata": {},
   "source": [
    "This one works! Assumes that all will be uppercase, so starts with False (the flag). If a lowercase is found, the flag is turned to True. After being turned True, it cannot be turned false because the conditional is to remain the same or turn True. \n",
    "\n",
    "*upon further inspection, i treated meaning of **or** as 'or if' and assumed the True value took precedence over false.  I think i'm still a tad confused about this. "
   ]
  },
  {
   "cell_type": "code",
   "execution_count": 82,
   "metadata": {
    "collapsed": false
   },
   "outputs": [
    {
     "data": {
      "text/plain": [
       "False"
      ]
     },
     "execution_count": 82,
     "metadata": {},
     "output_type": "execute_result"
    }
   ],
   "source": [
    "def any_lowercase5(s):\n",
    "    for c in s:\n",
    "        if not c.islower():\n",
    "            return False\n",
    "    return True\n",
    "\n",
    "any_lowercase1('Ul')"
   ]
  },
  {
   "cell_type": "markdown",
   "metadata": {},
   "source": [
    "Only sees the first letter because returns. If first character is Uppercase, the if statement is triggered and False is returned. If it is lowercase, the if is ignored and True is returned."
   ]
  },
  {
   "cell_type": "markdown",
   "metadata": {},
   "source": [
    "## [Chapter 10.1 - 10.6](http://www.greenteapress.com/thinkpython/html/thinkpython011.html)\n",
    "\n",
    "You may want to review [state diagrams in Chapter 2](http://www.greenteapress.com/thinkpython/html/thinkpython003.html#toc13).\n",
    "\n"
   ]
  },
  {
   "cell_type": "markdown",
   "metadata": {},
   "source": [
    "List: sequence of values of any type. Values in lists are called elements or items. Lists can be nested inside each other (internal list counts as an element), and are mutable (commands exist to change the contents of a current list without creating a new one from old pieces). \n",
    "\n",
    "List methods use dot notation list_name.method(argument). append (add a new value to the end), extend (change one list by adding a copy of another to the end), sort (arranges elements low to high; t = t.sort() = dissapointment)\n",
    "\n",
    "Augmented assignment statement: += (t+=x  equivalent to t=t+x)\n",
    "\n",
    "Accumulator: a variable that sums elements as a loop is executed\n",
    "Note: a nifty way to do this is by initializing an empty list [] and appending to it.\n",
    "\n",
    "Reduce: an operation that combines a sequence of elements to a single value. ex) sum()"
   ]
  },
  {
   "cell_type": "markdown",
   "metadata": {},
   "source": [
    "**Quick check:** What type of items can be placed in a list?"
   ]
  },
  {
   "cell_type": "markdown",
   "metadata": {},
   "source": [
    "Any type! "
   ]
  },
  {
   "cell_type": "markdown",
   "metadata": {},
   "source": [
    "**Quick check:** Give at least one similarity and one difference between lists and strings."
   ]
  },
  {
   "cell_type": "markdown",
   "metadata": {},
   "source": [
    "Similarity: Indexing! Use of operator in and other operations like slicing\n",
    "Difference: lists are mutable, strings are not"
   ]
  },
  {
   "cell_type": "markdown",
   "metadata": {},
   "source": [
    "### Exercise\n",
    "\n",
    "Write a function `average` that takes a list of numbers and returns their arithmetic mean."
   ]
  },
  {
   "cell_type": "code",
   "execution_count": 88,
   "metadata": {
    "collapsed": false
   },
   "outputs": [
    {
     "data": {
      "text/plain": [
       "5"
      ]
     },
     "execution_count": 88,
     "metadata": {},
     "output_type": "execute_result"
    }
   ],
   "source": [
    "def amean(int_list):\n",
    "    \n",
    "    num = sum(int_list)\n",
    "    denom = len(int_list)\n",
    "    \n",
    "    return num/denom\n",
    "\n",
    "amean([1,2,3,4,5,6,7,8,9]) #5  45/9 yay for Gauss and mental math!"
   ]
  },
  {
   "cell_type": "markdown",
   "metadata": {},
   "source": [
    "### Exercise\n",
    "You own a restaurant, and you need to keep up with the latest food fads or risk losing your fickle customers. You decide to write a Python function that adds the hot new ingredient _du jour_ to each of your regular menu items and returns the trendy new menu."
   ]
  },
  {
   "cell_type": "code",
   "execution_count": 97,
   "metadata": {
    "collapsed": false
   },
   "outputs": [
    {
     "data": {
      "text/plain": [
       "['House omlette with fresh fruit',\n",
       " 'Buttermilk pancakes with fresh fruit',\n",
       " 'French toast with fresh fruit',\n",
       " 'Oatmeal with fresh fruit']"
      ]
     },
     "execution_count": 97,
     "metadata": {},
     "output_type": "execute_result"
    }
   ],
   "source": [
    "def add_ingredient(menu, ingredient):\n",
    "    \"\"\"\n",
    "    Given a list of string 'menu' items and a trendy 'ingredient' string of the day,\n",
    "    return a new menu list of strings with the ingredient added to each.\n",
    "    \n",
    "    >>> add_ingredient([\"burger\", \"salad\", \"ice cream\"], \"kale\")\n",
    "    ['burger with kale', 'salad with kale', 'ice cream with kale']\n",
    "    \n",
    "    \"\"\"\n",
    "    #pass    # TODO: Implement me\n",
    "    i = 0\n",
    "    while i < len(menu):\n",
    "        menu[i] += ' with ' + ingredient\n",
    "        i+=1\n",
    "    return menu\n",
    "\n",
    "menu = [\"House omlette\", \"Buttermilk pancakes\", \"French toast\", \"Oatmeal\"]\n",
    "ingredient = 'fresh fruit'  \n",
    "add_ingredient(menu, ingredient)\n",
    "    \n",
    "# Running doctests in jupyter notebook:\n",
    "# If you'd like to actually run the doctests here, you can uncomment the lines below.\n",
    "# We use this slightly more complex method to test only the add_ingredient function,\n",
    "# without running tests on any other functions that may be in this notebook.\n",
    "\n",
    "#import doctest\n",
    "#doctest.run_docstring_examples(add_ingredient, globals())"
   ]
  },
  {
   "cell_type": "markdown",
   "metadata": {},
   "source": [
    "## Reading Journal feedback\n",
    "\n",
    "Have any comments on this Reading Journal? Feel free to leave them below and we'll read them when you submit your journal entry. This could include suggestions to improve the exercises, topics you'd like to see covered in class next time, or other feedback.\n",
    "\n",
    "If you have Python questions or run into problems while completing the reading, you should post them to Piazza instead so you can get a quick response before your journal is submitted."
   ]
  },
  {
   "cell_type": "markdown",
   "metadata": {},
   "source": [
    " "
   ]
  }
 ],
 "metadata": {
  "kernelspec": {
   "display_name": "Python 2",
   "language": "python",
   "name": "python2"
  },
  "language_info": {
   "codemirror_mode": {
    "name": "ipython",
    "version": 2
   },
   "file_extension": ".py",
   "mimetype": "text/x-python",
   "name": "python",
   "nbconvert_exporter": "python",
   "pygments_lexer": "ipython2",
   "version": "2.7.6"
  }
 },
 "nbformat": 4,
 "nbformat_minor": 0
}
